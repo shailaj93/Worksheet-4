{
 "cells": [
  {
   "cell_type": "code",
   "execution_count": 1,
   "id": "f039f1ae",
   "metadata": {},
   "outputs": [
    {
     "name": "stdout",
     "output_type": "stream",
     "text": [
      "Requirement already satisfied: selenium in c:\\users\\ayushi\\anaconda3\\lib\\site-packages (4.1.0)\n",
      "Requirement already satisfied: urllib3[secure]~=1.26 in c:\\users\\ayushi\\anaconda3\\lib\\site-packages (from selenium) (1.26.4)\n",
      "Requirement already satisfied: trio-websocket~=0.9 in c:\\users\\ayushi\\anaconda3\\lib\\site-packages (from selenium) (0.9.2)\n",
      "Requirement already satisfied: trio~=0.17 in c:\\users\\ayushi\\anaconda3\\lib\\site-packages (from selenium) (0.19.0)\n",
      "Requirement already satisfied: attrs>=19.2.0 in c:\\users\\ayushi\\anaconda3\\lib\\site-packages (from trio~=0.17->selenium) (20.3.0)\n",
      "Requirement already satisfied: outcome in c:\\users\\ayushi\\anaconda3\\lib\\site-packages (from trio~=0.17->selenium) (1.1.0)\n",
      "Requirement already satisfied: sortedcontainers in c:\\users\\ayushi\\anaconda3\\lib\\site-packages (from trio~=0.17->selenium) (2.3.0)\n",
      "Requirement already satisfied: async-generator>=1.9 in c:\\users\\ayushi\\anaconda3\\lib\\site-packages (from trio~=0.17->selenium) (1.10)\n",
      "Requirement already satisfied: cffi>=1.14 in c:\\users\\ayushi\\anaconda3\\lib\\site-packages (from trio~=0.17->selenium) (1.14.5)\n",
      "Requirement already satisfied: sniffio in c:\\users\\ayushi\\anaconda3\\lib\\site-packages (from trio~=0.17->selenium) (1.2.0)\n",
      "Requirement already satisfied: idna in c:\\users\\ayushi\\anaconda3\\lib\\site-packages (from trio~=0.17->selenium) (2.10)\n",
      "Requirement already satisfied: pycparser in c:\\users\\ayushi\\anaconda3\\lib\\site-packages (from cffi>=1.14->trio~=0.17->selenium) (2.20)\n",
      "Requirement already satisfied: wsproto>=0.14 in c:\\users\\ayushi\\anaconda3\\lib\\site-packages (from trio-websocket~=0.9->selenium) (1.0.0)\n",
      "Requirement already satisfied: pyOpenSSL>=0.14 in c:\\users\\ayushi\\anaconda3\\lib\\site-packages (from urllib3[secure]~=1.26->selenium) (20.0.1)\n",
      "Requirement already satisfied: cryptography>=1.3.4 in c:\\users\\ayushi\\anaconda3\\lib\\site-packages (from urllib3[secure]~=1.26->selenium) (3.4.7)\n",
      "Requirement already satisfied: certifi in c:\\users\\ayushi\\anaconda3\\lib\\site-packages (from urllib3[secure]~=1.26->selenium) (2020.12.5)\n",
      "Requirement already satisfied: six>=1.5.2 in c:\\users\\ayushi\\anaconda3\\lib\\site-packages (from pyOpenSSL>=0.14->urllib3[secure]~=1.26->selenium) (1.15.0)\n",
      "Requirement already satisfied: h11<1,>=0.9.0 in c:\\users\\ayushi\\anaconda3\\lib\\site-packages (from wsproto>=0.14->trio-websocket~=0.9->selenium) (0.12.0)\n"
     ]
    }
   ],
   "source": [
    "!pip install selenium\n"
   ]
  },
  {
   "cell_type": "code",
   "execution_count": 2,
   "id": "5c2929b7",
   "metadata": {},
   "outputs": [],
   "source": [
    "import pandas as pd\n",
    "import selenium\n",
    "from selenium import webdriver\n",
    "import time\n",
    "from selenium.common.exceptions import NoSuchElementException\n",
    "import warnings\n",
    "warnings.filterwarnings('ignore')"
   ]
  },
  {
   "cell_type": "code",
   "execution_count": 3,
   "id": "02c3cca4",
   "metadata": {},
   "outputs": [],
   "source": [
    "driver=webdriver.Chrome(r'C:\\Users\\AYUSHI\\Downloads\\chromedriver_win32\\chromedriver.exe')"
   ]
  },
  {
   "cell_type": "code",
   "execution_count": 4,
   "id": "45ac9461",
   "metadata": {},
   "outputs": [],
   "source": [
    "driver.get(\"https://www.forbes.com/?sh=61a589f2254c\")"
   ]
  },
  {
   "cell_type": "code",
   "execution_count": 6,
   "id": "0622a310",
   "metadata": {},
   "outputs": [
    {
     "data": {
      "text/plain": [
       "<selenium.webdriver.remote.webelement.WebElement (session=\"ab1fe8f953a26093c8fe21b1cedac148\", element=\"95220984-2a73-4774-8484-6471b5977389\")>"
      ]
     },
     "execution_count": 6,
     "metadata": {},
     "output_type": "execute_result"
    }
   ],
   "source": [
    "billionaire_btn=driver.find_element_by_xpath('/html/body/div[1]/main/section[8]/div[1]/a')\n",
    "billionaire_btn"
   ]
  },
  {
   "cell_type": "code",
   "execution_count": 7,
   "id": "cbbce2c9",
   "metadata": {},
   "outputs": [],
   "source": [
    "billionaire_btn.click()"
   ]
  },
  {
   "cell_type": "code",
   "execution_count": 12,
   "id": "68462792",
   "metadata": {},
   "outputs": [
    {
     "data": {
      "text/plain": [
       "<selenium.webdriver.remote.webelement.WebElement (session=\"ab1fe8f953a26093c8fe21b1cedac148\", element=\"b1b318f5-e3d5-4463-b440-889d5010b94f\")>"
      ]
     },
     "execution_count": 12,
     "metadata": {},
     "output_type": "execute_result"
    }
   ],
   "source": [
    "list_btn=driver.find_element_by_xpath('/html/body/div[1]/main/div/section/section[1]/div/div/div[1]/div/div[1]/div[1]/div[2]/a/h2')\n",
    "list_btn"
   ]
  },
  {
   "cell_type": "code",
   "execution_count": 13,
   "id": "b44e9dd4",
   "metadata": {},
   "outputs": [],
   "source": [
    "list_btn.click()"
   ]
  },
  {
   "cell_type": "code",
   "execution_count": 19,
   "id": "25b1df56",
   "metadata": {},
   "outputs": [],
   "source": [
    "Rank=[]\n",
    "Name=[]\n",
    "Net_worth=[] \n",
    "Age=[]\n",
    "Citizenship=[] \n",
    "Source=[] \n",
    "Industry=[]"
   ]
  },
  {
   "cell_type": "code",
   "execution_count": 41,
   "id": "e98b7bf9",
   "metadata": {},
   "outputs": [
    {
     "data": {
      "text/plain": [
       "200"
      ]
     },
     "execution_count": 41,
     "metadata": {},
     "output_type": "execute_result"
    }
   ],
   "source": [
    "rank_tags=driver.find_elements_by_xpath('//div[@class=\"rank\"]')\n",
    "len(rank_tags)"
   ]
  },
  {
   "cell_type": "code",
   "execution_count": 42,
   "id": "cd9ae254",
   "metadata": {},
   "outputs": [],
   "source": [
    "Rank=[]\n",
    "for i in rank_tags:\n",
    "    Rank.append(i.text)"
   ]
  },
  {
   "cell_type": "code",
   "execution_count": 43,
   "id": "52e5e804",
   "metadata": {},
   "outputs": [
    {
     "data": {
      "text/plain": [
       "200"
      ]
     },
     "execution_count": 43,
     "metadata": {},
     "output_type": "execute_result"
    }
   ],
   "source": [
    "name_tags=driver.find_elements_by_xpath('//div[@class=\"personName\"]/div')\n",
    "len(name_tags)"
   ]
  },
  {
   "cell_type": "code",
   "execution_count": 45,
   "id": "a96ad09f",
   "metadata": {},
   "outputs": [],
   "source": [
    "Name=[]\n",
    "for i in name_tags:\n",
    "    Name.append(i.text)"
   ]
  },
  {
   "cell_type": "code",
   "execution_count": 46,
   "id": "75f076e9",
   "metadata": {},
   "outputs": [
    {
     "data": {
      "text/plain": [
       "200"
      ]
     },
     "execution_count": 46,
     "metadata": {},
     "output_type": "execute_result"
    }
   ],
   "source": [
    "nw_tags=driver.find_elements_by_xpath('//div[@class=\"netWorth\"]/div')\n",
    "len(nw_tags)"
   ]
  },
  {
   "cell_type": "code",
   "execution_count": 47,
   "id": "9e5ba82a",
   "metadata": {},
   "outputs": [],
   "source": [
    "Net_worth=[]\n",
    "for i in nw_tags:\n",
    "    Net_worth.append(i.text)"
   ]
  },
  {
   "cell_type": "code",
   "execution_count": 58,
   "id": "e9f059fc",
   "metadata": {},
   "outputs": [
    {
     "data": {
      "text/plain": [
       "200"
      ]
     },
     "execution_count": 58,
     "metadata": {},
     "output_type": "execute_result"
    }
   ],
   "source": [
    "age_tags=driver.find_elements_by_xpath('//div[@class=\"age\"]/div')\n",
    "len(age_tags)"
   ]
  },
  {
   "cell_type": "code",
   "execution_count": 59,
   "id": "3071aac1",
   "metadata": {},
   "outputs": [],
   "source": [
    "Age=[]\n",
    "for i in age_tags:\n",
    "    Age.append(i.text)"
   ]
  },
  {
   "cell_type": "code",
   "execution_count": 50,
   "id": "7aa37928",
   "metadata": {},
   "outputs": [
    {
     "data": {
      "text/plain": [
       "200"
      ]
     },
     "execution_count": 50,
     "metadata": {},
     "output_type": "execute_result"
    }
   ],
   "source": [
    "ct_tags=driver.find_elements_by_xpath('//div[@class=\"countryOfCitizenship\"]')\n",
    "len(ct_tags)"
   ]
  },
  {
   "cell_type": "code",
   "execution_count": 51,
   "id": "a423d05e",
   "metadata": {},
   "outputs": [],
   "source": [
    "Citizenship=[]\n",
    "for i in ct_tags:\n",
    "    Citizenship.append(i.text)"
   ]
  },
  {
   "cell_type": "code",
   "execution_count": 52,
   "id": "19cc5f90",
   "metadata": {},
   "outputs": [
    {
     "data": {
      "text/plain": [
       "200"
      ]
     },
     "execution_count": 52,
     "metadata": {},
     "output_type": "execute_result"
    }
   ],
   "source": [
    "s_tags=driver.find_elements_by_xpath('//div[@class=\"source-column\"]')\n",
    "len(s_tags)"
   ]
  },
  {
   "cell_type": "code",
   "execution_count": 62,
   "id": "e2a12ca0",
   "metadata": {},
   "outputs": [
    {
     "data": {
      "text/plain": [
       "['Amazon',\n",
       " 'Tesla, SpaceX',\n",
       " 'LVMH',\n",
       " 'Microsoft',\n",
       " 'Facebook',\n",
       " 'Berkshire Hathaway',\n",
       " 'software',\n",
       " 'Google',\n",
       " 'Google',\n",
       " 'diversified',\n",
       " 'Zara',\n",
       " \"L'Oréal\",\n",
       " 'beverages, pharmaceuticals',\n",
       " 'Microsoft',\n",
       " 'internet media',\n",
       " 'telecom',\n",
       " 'Walmart',\n",
       " 'Walmart',\n",
       " 'Walmart',\n",
       " 'Bloomberg LP',\n",
       " 'e-commerce',\n",
       " 'Amazon',\n",
       " 'Quicken Loans',\n",
       " 'infrastructure, commodities',\n",
       " 'Nike',\n",
       " 'e-commerce',\n",
       " 'Koch Industries',\n",
       " 'Koch Industries',\n",
       " 'internet, telecom',\n",
       " 'Dell computers',\n",
       " 'fashion retail',\n",
       " 'luxury goods',\n",
       " 'media',\n",
       " 'supermarkets',\n",
       " 'package delivery',\n",
       " 'casinos',\n",
       " 'home appliances',\n",
       " 'retail',\n",
       " 'TikTok',\n",
       " 'Nutella, chocolates',\n",
       " 'Chanel',\n",
       " 'Chanel',\n",
       " 'diversified',\n",
       " 'pig breeding',\n",
       " 'online games',\n",
       " 'music, chemicals',\n",
       " 'real estate',\n",
       " 'candy, pet food',\n",
       " 'candy, pet food',\n",
       " 'real estate',\n",
       " 'steel, investments',\n",
       " 'batteries',\n",
       " 'real estate',\n",
       " 'BMW, pharmaceuticals',\n",
       " 'metals',\n",
       " 'Red Bull',\n",
       " 'soy sauce',\n",
       " 'shipping',\n",
       " 'steel, transport',\n",
       " 'e-commerce',\n",
       " 'mining',\n",
       " 'eyeglasses',\n",
       " 'sensors',\n",
       " 'Estee Lauder',\n",
       " 'discount brokerage',\n",
       " 'oil',\n",
       " 'gas, chemicals',\n",
       " 'hedge funds',\n",
       " 'vaccines',\n",
       " 'mining',\n",
       " 'newspapers, TV network',\n",
       " 'software services',\n",
       " 'internet media',\n",
       " 'mining',\n",
       " 'smartphones',\n",
       " 'restaurants',\n",
       " 'e-commerce',\n",
       " 'oil, gas',\n",
       " 'investments',\n",
       " 'paints',\n",
       " 'BMW',\n",
       " 'medical devices',\n",
       " 'eBay, PayPal',\n",
       " 'H&M',\n",
       " 'money management',\n",
       " 'banking, tobacco',\n",
       " 'mining',\n",
       " 'hedge funds',\n",
       " 'banking, tobacco',\n",
       " 'automobiles',\n",
       " 'pharmaceuticals',\n",
       " 'medical devices',\n",
       " 'casinos/hotels',\n",
       " 'cheese',\n",
       " 'Apple, Disney',\n",
       " 'Google',\n",
       " 'pharmaceuticals',\n",
       " \"Aldi, Trader Joe's\",\n",
       " 'steel, telecom, investments',\n",
       " 'wireless networking gear',\n",
       " 'real estate',\n",
       " 'petrochemicals',\n",
       " 'diversified',\n",
       " 'real estate',\n",
       " 'hospitals',\n",
       " 'coal, fertilizers',\n",
       " 'Facebook',\n",
       " 'video streaming',\n",
       " 'media',\n",
       " 'finance, telecommunications',\n",
       " 'food',\n",
       " 'messaging app',\n",
       " 'chemicals',\n",
       " 'beer',\n",
       " 'fasteners',\n",
       " 'Heineken',\n",
       " 'retail, investments',\n",
       " 'batteries, automobiles',\n",
       " 'hedge funds',\n",
       " 'hedge funds',\n",
       " 'e-cigarettes',\n",
       " 'used cars',\n",
       " 'banking',\n",
       " 'investments',\n",
       " 'investments',\n",
       " 'hospitals',\n",
       " 'Walmart',\n",
       " 'oil, banking, telecom',\n",
       " 'automobiles',\n",
       " 'real estate services',\n",
       " 'smartphone screens',\n",
       " 'real estate',\n",
       " 'diversified',\n",
       " 'steel',\n",
       " 'auto parts',\n",
       " 'video conferencing',\n",
       " 'real estate',\n",
       " 'real estate',\n",
       " 'internet search',\n",
       " 'construction',\n",
       " 'Facebook',\n",
       " 'steel, investments',\n",
       " 'hedge funds',\n",
       " 'video surveillance',\n",
       " 'software',\n",
       " 'home improvement stores',\n",
       " 'biotech',\n",
       " 'video streaming app',\n",
       " 'construction equipment',\n",
       " 'software',\n",
       " 'packaging',\n",
       " 'packaging',\n",
       " 'packaging',\n",
       " 'Airbnb',\n",
       " 'real estate',\n",
       " 'business software',\n",
       " 'alcohol, real estate',\n",
       " 'online games',\n",
       " 'real estate',\n",
       " 'education',\n",
       " 'fashion retail',\n",
       " 'mining, copper products',\n",
       " 'hydraulic machinery',\n",
       " 'ecommerce',\n",
       " 'hedge funds',\n",
       " 'batteries',\n",
       " 'retail, media',\n",
       " 'commodities',\n",
       " 'coal',\n",
       " 'vaccines',\n",
       " 'palm oil, shipping, property',\n",
       " 'supermarkets',\n",
       " 'Twitter, Square',\n",
       " 'education',\n",
       " 'textiles, apparel',\n",
       " 'e-commerce',\n",
       " 'Airbnb',\n",
       " 'venture capital',\n",
       " 'Airbnb',\n",
       " 'gaming',\n",
       " 'semiconductors',\n",
       " 'agribusiness',\n",
       " 'Intel',\n",
       " 'trading, investments',\n",
       " 'Snapchat',\n",
       " 'telecom',\n",
       " 'semiconductors',\n",
       " 'real estate',\n",
       " 'pharmaceuticals',\n",
       " 'e-commerce',\n",
       " 'cement, sugar',\n",
       " 'beer',\n",
       " 'investments',\n",
       " 'hospitals',\n",
       " 'steel',\n",
       " 'real estate',\n",
       " 'oil',\n",
       " 'real estate, shipping',\n",
       " 'Snapchat',\n",
       " 'banking']"
      ]
     },
     "execution_count": 62,
     "metadata": {},
     "output_type": "execute_result"
    }
   ],
   "source": [
    "Source=[]\n",
    "for i in s_tags:\n",
    "    Source.append(i.text)\n",
    "Source"
   ]
  },
  {
   "cell_type": "code",
   "execution_count": 54,
   "id": "04c1314b",
   "metadata": {},
   "outputs": [
    {
     "data": {
      "text/plain": [
       "200"
      ]
     },
     "execution_count": 54,
     "metadata": {},
     "output_type": "execute_result"
    }
   ],
   "source": [
    "ind_tags=driver.find_elements_by_xpath('//div[@class=\"category\"]/div')\n",
    "len(ind_tags)"
   ]
  },
  {
   "cell_type": "code",
   "execution_count": 61,
   "id": "0897a352",
   "metadata": {},
   "outputs": [
    {
     "data": {
      "text/plain": [
       "['Technology',\n",
       " 'Automotive',\n",
       " 'Fashion & Retail',\n",
       " 'Technology',\n",
       " 'Technology',\n",
       " 'Finance & Investments',\n",
       " 'Technology',\n",
       " 'Technology',\n",
       " 'Technology',\n",
       " 'Diversified',\n",
       " 'Fashion & Retail',\n",
       " 'Fashion & Retail',\n",
       " 'Food & Beverage',\n",
       " 'Technology',\n",
       " 'Technology',\n",
       " 'Telecom',\n",
       " 'Fashion & Retail',\n",
       " 'Fashion & Retail',\n",
       " 'Fashion & Retail',\n",
       " 'Media & Entertainment',\n",
       " 'Technology',\n",
       " 'Technology',\n",
       " 'Finance & Investments',\n",
       " 'Diversified',\n",
       " 'Fashion & Retail',\n",
       " 'Technology',\n",
       " 'Diversified',\n",
       " 'Diversified',\n",
       " 'Telecom',\n",
       " 'Technology',\n",
       " 'Fashion & Retail',\n",
       " 'Fashion & Retail',\n",
       " 'Media & Entertainment',\n",
       " 'Fashion & Retail',\n",
       " 'Service',\n",
       " 'Gambling & Casinos',\n",
       " 'Manufacturing',\n",
       " 'Fashion & Retail',\n",
       " 'Technology',\n",
       " 'Food & Beverage',\n",
       " 'Fashion & Retail',\n",
       " 'Fashion & Retail',\n",
       " 'Diversified',\n",
       " 'Food & Beverage',\n",
       " 'Technology',\n",
       " 'Diversified',\n",
       " 'Real Estate',\n",
       " 'Food & Beverage',\n",
       " 'Food & Beverage',\n",
       " 'Real Estate',\n",
       " 'Metals & Mining',\n",
       " 'Automotive',\n",
       " 'Real Estate',\n",
       " 'Automotive',\n",
       " 'Metals & Mining',\n",
       " 'Food & Beverage',\n",
       " 'Food & Beverage',\n",
       " 'Logistics',\n",
       " 'Metals & Mining',\n",
       " 'Technology',\n",
       " 'Metals & Mining',\n",
       " 'Fashion & Retail',\n",
       " 'Manufacturing',\n",
       " 'Fashion & Retail',\n",
       " 'Finance & Investments',\n",
       " 'Energy',\n",
       " 'Energy',\n",
       " 'Finance & Investments',\n",
       " 'Healthcare',\n",
       " 'Metals & Mining',\n",
       " 'Media & Entertainment',\n",
       " 'Technology',\n",
       " 'Technology',\n",
       " 'Metals & Mining',\n",
       " 'Technology',\n",
       " 'Food & Beverage',\n",
       " 'Technology',\n",
       " 'Energy',\n",
       " 'Finance & Investments',\n",
       " 'Manufacturing',\n",
       " 'Automotive',\n",
       " 'Healthcare',\n",
       " 'Technology',\n",
       " 'Fashion & Retail',\n",
       " 'Finance & Investments',\n",
       " 'Finance & Investments',\n",
       " 'Metals & Mining',\n",
       " 'Finance & Investments',\n",
       " 'Manufacturing',\n",
       " 'Automotive',\n",
       " 'Healthcare',\n",
       " 'Healthcare',\n",
       " 'Gambling & Casinos',\n",
       " 'Food & Beverage',\n",
       " 'Technology',\n",
       " 'Technology',\n",
       " 'Healthcare',\n",
       " 'Fashion & Retail',\n",
       " 'Metals & Mining',\n",
       " 'Technology',\n",
       " 'Real Estate',\n",
       " 'Energy',\n",
       " 'Diversified',\n",
       " 'Real Estate',\n",
       " 'Healthcare',\n",
       " 'Metals & Mining',\n",
       " 'Technology',\n",
       " 'Media & Entertainment',\n",
       " 'Media & Entertainment',\n",
       " 'Finance & Investments',\n",
       " 'Food & Beverage',\n",
       " 'Technology',\n",
       " 'Manufacturing',\n",
       " 'Food & Beverage',\n",
       " 'Manufacturing',\n",
       " 'Food & Beverage',\n",
       " 'Fashion & Retail',\n",
       " 'Automotive',\n",
       " 'Finance & Investments',\n",
       " 'Finance & Investments',\n",
       " 'Manufacturing',\n",
       " 'Automotive',\n",
       " 'Finance & Investments',\n",
       " 'Finance & Investments',\n",
       " 'Finance & Investments',\n",
       " 'Healthcare',\n",
       " 'Fashion & Retail',\n",
       " 'Energy',\n",
       " 'Automotive',\n",
       " 'Real Estate',\n",
       " 'Technology',\n",
       " 'Real Estate',\n",
       " 'Diversified',\n",
       " 'Metals & Mining',\n",
       " 'Automotive',\n",
       " 'Technology',\n",
       " 'Real Estate',\n",
       " 'Real Estate',\n",
       " 'Technology',\n",
       " 'Construction & Engineering',\n",
       " 'Technology',\n",
       " 'Diversified',\n",
       " 'Finance & Investments',\n",
       " 'Finance & Investments',\n",
       " 'Technology',\n",
       " 'Fashion & Retail',\n",
       " 'Healthcare',\n",
       " 'Media & Entertainment',\n",
       " 'Manufacturing',\n",
       " 'Technology',\n",
       " 'Food & Beverage',\n",
       " 'Food & Beverage',\n",
       " 'Food & Beverage',\n",
       " 'Technology',\n",
       " 'Real Estate',\n",
       " 'Technology',\n",
       " 'Food & Beverage',\n",
       " 'Technology',\n",
       " 'Real Estate',\n",
       " 'Service',\n",
       " 'Fashion & Retail',\n",
       " 'Metals & Mining',\n",
       " 'Manufacturing',\n",
       " 'Fashion & Retail',\n",
       " 'Finance & Investments',\n",
       " 'Energy',\n",
       " 'Fashion & Retail',\n",
       " 'Diversified',\n",
       " 'Metals & Mining',\n",
       " 'Healthcare',\n",
       " 'Diversified',\n",
       " 'Fashion & Retail',\n",
       " 'Technology',\n",
       " 'Automotive',\n",
       " 'Fashion & Retail',\n",
       " 'Fashion & Retail',\n",
       " 'Technology',\n",
       " 'Technology',\n",
       " 'Technology',\n",
       " 'Media & Entertainment',\n",
       " 'Manufacturing',\n",
       " 'Service',\n",
       " 'Technology',\n",
       " 'Finance & Investments',\n",
       " 'Technology',\n",
       " 'Telecom',\n",
       " 'Technology',\n",
       " 'Real Estate',\n",
       " 'Healthcare',\n",
       " 'Technology',\n",
       " 'Manufacturing',\n",
       " 'Food & Beverage',\n",
       " 'Finance & Investments',\n",
       " 'Healthcare',\n",
       " 'Manufacturing',\n",
       " 'Real Estate',\n",
       " 'Energy',\n",
       " 'Diversified',\n",
       " 'Technology',\n",
       " 'Finance & Investments']"
      ]
     },
     "execution_count": 61,
     "metadata": {},
     "output_type": "execute_result"
    }
   ],
   "source": [
    "Industry=[]\n",
    "for i in ind_tags:\n",
    "    Industry.append(i.text)\n",
    "Industry"
   ]
  },
  {
   "cell_type": "code",
   "execution_count": 56,
   "id": "56d97709",
   "metadata": {},
   "outputs": [
    {
     "data": {
      "text/plain": [
       "(200, 200, 200, 200, 200, 200, 200)"
      ]
     },
     "execution_count": 56,
     "metadata": {},
     "output_type": "execute_result"
    }
   ],
   "source": [
    "len(Rank),len(Name),len(Net_worth),len(Age),len(Citizenship),len(Source),len(Industry)"
   ]
  },
  {
   "cell_type": "code",
   "execution_count": 65,
   "id": "53b778f9",
   "metadata": {},
   "outputs": [
    {
     "data": {
      "text/html": [
       "<div>\n",
       "<style scoped>\n",
       "    .dataframe tbody tr th:only-of-type {\n",
       "        vertical-align: middle;\n",
       "    }\n",
       "\n",
       "    .dataframe tbody tr th {\n",
       "        vertical-align: top;\n",
       "    }\n",
       "\n",
       "    .dataframe thead th {\n",
       "        text-align: right;\n",
       "    }\n",
       "</style>\n",
       "<table border=\"1\" class=\"dataframe\">\n",
       "  <thead>\n",
       "    <tr style=\"text-align: right;\">\n",
       "      <th></th>\n",
       "      <th>Rank</th>\n",
       "      <th>Name</th>\n",
       "      <th>Net_worth</th>\n",
       "      <th>Age</th>\n",
       "      <th>Citizenship</th>\n",
       "      <th>Source</th>\n",
       "      <th>Industry</th>\n",
       "    </tr>\n",
       "  </thead>\n",
       "  <tbody>\n",
       "    <tr>\n",
       "      <th>0</th>\n",
       "      <td>1.</td>\n",
       "      <td>Jeff Bezos</td>\n",
       "      <td>$177 B</td>\n",
       "      <td>57</td>\n",
       "      <td>United States</td>\n",
       "      <td>Amazon</td>\n",
       "      <td>Technology</td>\n",
       "    </tr>\n",
       "    <tr>\n",
       "      <th>1</th>\n",
       "      <td>2.</td>\n",
       "      <td>Elon Musk</td>\n",
       "      <td>$151 B</td>\n",
       "      <td>49</td>\n",
       "      <td>United States</td>\n",
       "      <td>Tesla, SpaceX</td>\n",
       "      <td>Automotive</td>\n",
       "    </tr>\n",
       "    <tr>\n",
       "      <th>2</th>\n",
       "      <td>3.</td>\n",
       "      <td>Bernard Arnault &amp; family</td>\n",
       "      <td>$150 B</td>\n",
       "      <td>72</td>\n",
       "      <td>France</td>\n",
       "      <td>LVMH</td>\n",
       "      <td>Fashion &amp; Retail</td>\n",
       "    </tr>\n",
       "    <tr>\n",
       "      <th>3</th>\n",
       "      <td>4.</td>\n",
       "      <td>Bill Gates</td>\n",
       "      <td>$124 B</td>\n",
       "      <td>65</td>\n",
       "      <td>United States</td>\n",
       "      <td>Microsoft</td>\n",
       "      <td>Technology</td>\n",
       "    </tr>\n",
       "    <tr>\n",
       "      <th>4</th>\n",
       "      <td>5.</td>\n",
       "      <td>Mark Zuckerberg</td>\n",
       "      <td>$97 B</td>\n",
       "      <td>36</td>\n",
       "      <td>United States</td>\n",
       "      <td>Facebook</td>\n",
       "      <td>Technology</td>\n",
       "    </tr>\n",
       "    <tr>\n",
       "      <th>...</th>\n",
       "      <td>...</td>\n",
       "      <td>...</td>\n",
       "      <td>...</td>\n",
       "      <td>...</td>\n",
       "      <td>...</td>\n",
       "      <td>...</td>\n",
       "      <td>...</td>\n",
       "    </tr>\n",
       "    <tr>\n",
       "      <th>195</th>\n",
       "      <td>195.</td>\n",
       "      <td>Harry Triguboff</td>\n",
       "      <td>$11.2 B</td>\n",
       "      <td>88</td>\n",
       "      <td>Australia</td>\n",
       "      <td>real estate</td>\n",
       "      <td>Real Estate</td>\n",
       "    </tr>\n",
       "    <tr>\n",
       "      <th>196</th>\n",
       "      <td>197.</td>\n",
       "      <td>Leonid Fedun &amp; family</td>\n",
       "      <td>$11.1 B</td>\n",
       "      <td>65</td>\n",
       "      <td>Russia</td>\n",
       "      <td>oil</td>\n",
       "      <td>Energy</td>\n",
       "    </tr>\n",
       "    <tr>\n",
       "      <th>197</th>\n",
       "      <td>197.</td>\n",
       "      <td>Eyal Ofer</td>\n",
       "      <td>$11.1 B</td>\n",
       "      <td>70</td>\n",
       "      <td>Israel</td>\n",
       "      <td>real estate, shipping</td>\n",
       "      <td>Diversified</td>\n",
       "    </tr>\n",
       "    <tr>\n",
       "      <th>198</th>\n",
       "      <td>197.</td>\n",
       "      <td>Evan Spiegel</td>\n",
       "      <td>$11.1 B</td>\n",
       "      <td>30</td>\n",
       "      <td>United States</td>\n",
       "      <td>Snapchat</td>\n",
       "      <td>Technology</td>\n",
       "    </tr>\n",
       "    <tr>\n",
       "      <th>199</th>\n",
       "      <td>200.</td>\n",
       "      <td>Luis Carlos Sarmiento</td>\n",
       "      <td>$11 B</td>\n",
       "      <td>88</td>\n",
       "      <td>Colombia</td>\n",
       "      <td>banking</td>\n",
       "      <td>Finance &amp; Investments</td>\n",
       "    </tr>\n",
       "  </tbody>\n",
       "</table>\n",
       "<p>200 rows × 7 columns</p>\n",
       "</div>"
      ],
      "text/plain": [
       "     Rank                      Name Net_worth Age    Citizenship  \\\n",
       "0      1.                Jeff Bezos    $177 B  57  United States   \n",
       "1      2.                 Elon Musk    $151 B  49  United States   \n",
       "2      3.  Bernard Arnault & family    $150 B  72         France   \n",
       "3      4.                Bill Gates    $124 B  65  United States   \n",
       "4      5.           Mark Zuckerberg     $97 B  36  United States   \n",
       "..    ...                       ...       ...  ..            ...   \n",
       "195  195.           Harry Triguboff   $11.2 B  88      Australia   \n",
       "196  197.     Leonid Fedun & family   $11.1 B  65         Russia   \n",
       "197  197.                 Eyal Ofer   $11.1 B  70         Israel   \n",
       "198  197.              Evan Spiegel   $11.1 B  30  United States   \n",
       "199  200.     Luis Carlos Sarmiento     $11 B  88       Colombia   \n",
       "\n",
       "                    Source               Industry  \n",
       "0                   Amazon             Technology  \n",
       "1            Tesla, SpaceX             Automotive  \n",
       "2                     LVMH       Fashion & Retail  \n",
       "3                Microsoft             Technology  \n",
       "4                 Facebook             Technology  \n",
       "..                     ...                    ...  \n",
       "195            real estate            Real Estate  \n",
       "196                    oil                 Energy  \n",
       "197  real estate, shipping            Diversified  \n",
       "198               Snapchat             Technology  \n",
       "199                banking  Finance & Investments  \n",
       "\n",
       "[200 rows x 7 columns]"
      ]
     },
     "execution_count": 65,
     "metadata": {},
     "output_type": "execute_result"
    }
   ],
   "source": [
    "Billionaires=pd.DataFrame()\n",
    "Billionaires['Rank']= Rank\n",
    "Billionaires['Name']= Name\n",
    "Billionaires['Net_worth']= Net_worth\n",
    "Billionaires['Age']= Age\n",
    "Billionaires['Citizenship']= Citizenship\n",
    "Billionaires['Source']= Source\n",
    "Billionaires['Industry']= Industry\n",
    "Billionaires"
   ]
  },
  {
   "cell_type": "code",
   "execution_count": null,
   "id": "87cc58bb",
   "metadata": {},
   "outputs": [],
   "source": []
  }
 ],
 "metadata": {
  "kernelspec": {
   "display_name": "Python 3",
   "language": "python",
   "name": "python3"
  },
  "language_info": {
   "codemirror_mode": {
    "name": "ipython",
    "version": 3
   },
   "file_extension": ".py",
   "mimetype": "text/x-python",
   "name": "python",
   "nbconvert_exporter": "python",
   "pygments_lexer": "ipython3",
   "version": "3.8.8"
  }
 },
 "nbformat": 4,
 "nbformat_minor": 5
}
