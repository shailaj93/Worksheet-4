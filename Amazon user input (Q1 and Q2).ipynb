{
 "cells": [
  {
   "cell_type": "code",
   "execution_count": 1,
   "id": "f039f1ae",
   "metadata": {},
   "outputs": [
    {
     "name": "stdout",
     "output_type": "stream",
     "text": [
      "Requirement already satisfied: selenium in c:\\users\\ayushi\\anaconda3\\lib\\site-packages (4.1.0)\n",
      "Requirement already satisfied: trio-websocket~=0.9 in c:\\users\\ayushi\\anaconda3\\lib\\site-packages (from selenium) (0.9.2)\n",
      "Requirement already satisfied: trio~=0.17 in c:\\users\\ayushi\\anaconda3\\lib\\site-packages (from selenium) (0.19.0)\n",
      "Requirement already satisfied: urllib3[secure]~=1.26 in c:\\users\\ayushi\\anaconda3\\lib\\site-packages (from selenium) (1.26.4)\n",
      "Requirement already satisfied: outcome in c:\\users\\ayushi\\anaconda3\\lib\\site-packages (from trio~=0.17->selenium) (1.1.0)\n",
      "Requirement already satisfied: async-generator>=1.9 in c:\\users\\ayushi\\anaconda3\\lib\\site-packages (from trio~=0.17->selenium) (1.10)\n",
      "Requirement already satisfied: idna in c:\\users\\ayushi\\anaconda3\\lib\\site-packages (from trio~=0.17->selenium) (2.10)\n",
      "Requirement already satisfied: sortedcontainers in c:\\users\\ayushi\\anaconda3\\lib\\site-packages (from trio~=0.17->selenium) (2.3.0)\n",
      "Requirement already satisfied: attrs>=19.2.0 in c:\\users\\ayushi\\anaconda3\\lib\\site-packages (from trio~=0.17->selenium) (20.3.0)\n",
      "Requirement already satisfied: cffi>=1.14 in c:\\users\\ayushi\\anaconda3\\lib\\site-packages (from trio~=0.17->selenium) (1.14.5)\n",
      "Requirement already satisfied: sniffio in c:\\users\\ayushi\\anaconda3\\lib\\site-packages (from trio~=0.17->selenium) (1.2.0)\n",
      "Requirement already satisfied: pycparser in c:\\users\\ayushi\\anaconda3\\lib\\site-packages (from cffi>=1.14->trio~=0.17->selenium) (2.20)\n",
      "Requirement already satisfied: wsproto>=0.14 in c:\\users\\ayushi\\anaconda3\\lib\\site-packages (from trio-websocket~=0.9->selenium) (1.0.0)\n",
      "Requirement already satisfied: certifi in c:\\users\\ayushi\\anaconda3\\lib\\site-packages (from urllib3[secure]~=1.26->selenium) (2020.12.5)\n",
      "Requirement already satisfied: pyOpenSSL>=0.14 in c:\\users\\ayushi\\anaconda3\\lib\\site-packages (from urllib3[secure]~=1.26->selenium) (20.0.1)\n",
      "Requirement already satisfied: cryptography>=1.3.4 in c:\\users\\ayushi\\anaconda3\\lib\\site-packages (from urllib3[secure]~=1.26->selenium) (3.4.7)\n",
      "Requirement already satisfied: six>=1.5.2 in c:\\users\\ayushi\\anaconda3\\lib\\site-packages (from pyOpenSSL>=0.14->urllib3[secure]~=1.26->selenium) (1.15.0)\n",
      "Requirement already satisfied: h11<1,>=0.9.0 in c:\\users\\ayushi\\anaconda3\\lib\\site-packages (from wsproto>=0.14->trio-websocket~=0.9->selenium) (0.12.0)\n"
     ]
    }
   ],
   "source": [
    "!pip install selenium\n"
   ]
  },
  {
   "cell_type": "code",
   "execution_count": 2,
   "id": "5c2929b7",
   "metadata": {},
   "outputs": [],
   "source": [
    "import pandas as pd\n",
    "import selenium\n",
    "from selenium import webdriver\n",
    "import time\n",
    "from selenium.common.exceptions import NoSuchElementException\n",
    "import warnings\n",
    "warnings.filterwarnings('ignore')"
   ]
  },
  {
   "cell_type": "code",
   "execution_count": 22,
   "id": "02c3cca4",
   "metadata": {},
   "outputs": [],
   "source": [
    "driver=webdriver.Chrome(r'C:\\Users\\AYUSHI\\Downloads\\chromedriver_win32\\chromedriver.exe')"
   ]
  },
  {
   "cell_type": "code",
   "execution_count": 23,
   "id": "45ac9461",
   "metadata": {},
   "outputs": [],
   "source": [
    "driver.get(\"https://www.amazon.in/?tag=operadesktop-21\")"
   ]
  },
  {
   "cell_type": "code",
   "execution_count": 24,
   "id": "0622a310",
   "metadata": {},
   "outputs": [
    {
     "data": {
      "text/plain": [
       "<selenium.webdriver.remote.webelement.WebElement (session=\"54fc47f474be0b452f709d7eb66601b4\", element=\"63bc0f74-5206-4895-8d4a-7b572cfd65e4\")>"
      ]
     },
     "execution_count": 24,
     "metadata": {},
     "output_type": "execute_result"
    }
   ],
   "source": [
    "Search=driver.find_element_by_xpath('/html/body/div[1]/header/div/div[1]/div[2]/div/form/div[2]/div[1]/input')\n",
    "Search"
   ]
  },
  {
   "cell_type": "code",
   "execution_count": 25,
   "id": "8083c75d",
   "metadata": {},
   "outputs": [
    {
     "name": "stdout",
     "output_type": "stream",
     "text": [
      "Please search here smartphone\n",
      "User input:- smartphone\n"
     ]
    }
   ],
   "source": [
    "name=input(\"Please search here \")\n",
    "print(\"User input:-\", name)"
   ]
  },
  {
   "cell_type": "code",
   "execution_count": 26,
   "id": "f9a5eb63",
   "metadata": {},
   "outputs": [],
   "source": [
    "Search.send_keys(name)"
   ]
  },
  {
   "cell_type": "code",
   "execution_count": 27,
   "id": "00faad31",
   "metadata": {},
   "outputs": [
    {
     "data": {
      "text/plain": [
       "<selenium.webdriver.remote.webelement.WebElement (session=\"54fc47f474be0b452f709d7eb66601b4\", element=\"22424c6f-70c7-4cb8-a5b7-b36963ebf2e9\")>"
      ]
     },
     "execution_count": 27,
     "metadata": {},
     "output_type": "execute_result"
    }
   ],
   "source": [
    "search_btn=driver.find_element_by_xpath('/html/body/div[1]/header/div/div[1]/div[2]/div/form/div[3]/div/span/input')\n",
    "search_btn"
   ]
  },
  {
   "cell_type": "code",
   "execution_count": 28,
   "id": "cbbce2c9",
   "metadata": {},
   "outputs": [],
   "source": [
    "search_btn.click()"
   ]
  },
  {
   "cell_type": "markdown",
   "id": "d3a5a1a9",
   "metadata": {},
   "source": [
    "## To get content upto 3 pages"
   ]
  },
  {
   "cell_type": "code",
   "execution_count": 30,
   "id": "1ccd925d",
   "metadata": {},
   "outputs": [
    {
     "data": {
      "text/plain": [
       "['https://www.amazon.in/s?k=smartphone&page=2&crid=3FUXF8VF4UBDR&qid=1643266729&sprefix=smartphone%2Caps%2C1097&ref=sr_pg_1',\n",
       " 'https://www.amazon.in/s?k=smartphone&page=3&crid=3FUXF8VF4UBDR&qid=1643266833&sprefix=smartphone%2Caps%2C1097&ref=sr_pg_2',\n",
       " 'https://www.amazon.in/s?k=smartphone&crid=3FUXF8VF4UBDR&qid=1643266833&sprefix=smartphone%2Caps%2C1097&ref=sr_pg_2']"
      ]
     },
     "execution_count": 30,
     "metadata": {},
     "output_type": "execute_result"
    }
   ],
   "source": [
    "Url1=[]\n",
    "for i in range(0,2,1):\n",
    "    time.sleep(3)\n",
    "    try:\n",
    "        next=driver.find_element_by_xpath(\"//a[@class='s-pagination-item s-pagination-next s-pagination-button s-pagination-separator']\")\n",
    "        Url1.append(next.get_attribute(\"href\"))\n",
    "        btn=driver.find_element_by_xpath('/html/body/div[1]/div[2]/div[1]/div[1]/div/span[3]/div[2]/div[25]/span/div/span/a[3]')\n",
    "        btn.click()\n",
    "    except:\n",
    "        next=driver.find_element_by_xpath(\"//a[@class='s-pagination-item s-pagination-previous s-pagination-button s-pagination-separator']\")\n",
    "        Url1.append(next.get_attribute(\"href\"))\n",
    "Url1"
   ]
  },
  {
   "cell_type": "code",
   "execution_count": 31,
   "id": "a99001a2",
   "metadata": {},
   "outputs": [],
   "source": [
    "Name_ofthe_product=[]\n",
    "Price=[]\n",
    "Return_on_Exchange=[]\n",
    "Expected_delivery=[]\n",
    "Availability=[]\n",
    "Product_URL=[]"
   ]
  },
  {
   "cell_type": "code",
   "execution_count": 32,
   "id": "031e0fe1",
   "metadata": {},
   "outputs": [
    {
     "data": {
      "text/plain": [
       "['https://www.amazon.in/gp/slredirect/picassoRedirect.html/ref=pa_sp_atf_next_aps_sr_pg2_1?ie=UTF8&adId=A00938693M7SC8QHTVCA5&url=%2FXiaomi-Celestial-Storage-HyperCharge-Exchange%2Fdp%2FB09Q18BKN9%2Fref%3Dsr_1_17_sspa%3Fcrid%3D3FUXF8VF4UBDR%26keywords%3Dsmartphone%26qid%3D1643266833%26sprefix%3Dsmartphone%252Caps%252C1097%26sr%3D8-17-spons%26psc%3D1&qualifier=1643266833&id=6724569816201401&widgetName=sp_atf_next',\n",
       " 'https://www.amazon.in/gp/slredirect/picassoRedirect.html/ref=pa_sp_atf_next_aps_sr_pg2_1?ie=UTF8&adId=A05959972VC9EP67FDW4T&url=%2FSamsung-Charcoal-Storage-Replacement-SM-M215GZKDINS%2Fdp%2FB098NFJXXL%2Fref%3Dsr_1_18_sspa%3Fcrid%3D3FUXF8VF4UBDR%26keywords%3Dsmartphone%26qid%3D1643266833%26sprefix%3Dsmartphone%252Caps%252C1097%26sr%3D8-18-spons%26psc%3D1&qualifier=1643266833&id=6724569816201401&widgetName=sp_atf_next',\n",
       " 'https://www.amazon.in/Tecno-5000mAh-Camera-Splash-Resistant/dp/B09PRDHRKV/ref=sr_1_19?crid=3FUXF8VF4UBDR&keywords=smartphone&qid=1643266833&sprefix=smartphone%2Caps%2C1097&sr=8-19',\n",
       " 'https://www.amazon.in/Lava-Notfication-recoding-Military-Certified/dp/B09BF8JBWX/ref=sr_1_20?crid=3FUXF8VF4UBDR&keywords=smartphone&qid=1643266833&sprefix=smartphone%2Caps%2C1097&sr=8-20',\n",
       " 'https://www.amazon.in/Tecno-Deepsea-Luster-5000mAh-Resistant/dp/B09PRDQN1C/ref=sr_1_21?crid=3FUXF8VF4UBDR&keywords=smartphone&qid=1643266833&sprefix=smartphone%2Caps%2C1097&sr=8-21',\n",
       " 'https://www.amazon.in/KALL-Smartphone-Inch-32GB-Blue/dp/B09Q5KZCDK/ref=sr_1_17?crid=3FUXF8VF4UBDR&keywords=smartphone&qid=1643266833&sprefix=smartphone%2Caps%2C1097&sr=8-17',\n",
       " 'https://www.amazon.in/Lava-A1-Blue-Silver/dp/B09BF91NV5/ref=sr_1_18?crid=3FUXF8VF4UBDR&keywords=smartphone&qid=1643266833&sprefix=smartphone%2Caps%2C1097&sr=8-18',\n",
       " 'https://www.amazon.in/KALL-Smartphone-6-26-32GB-Blue/dp/B09QG4VGLG/ref=sr_1_19?crid=3FUXF8VF4UBDR&keywords=smartphone&qid=1643266833&sprefix=smartphone%2Caps%2C1097&sr=8-19',\n",
       " 'https://www.amazon.in/Vivo-Dream-Additional-Exchange-Offers/dp/B09Q5VBG86/ref=sr_1_20?crid=3FUXF8VF4UBDR&keywords=smartphone&qid=1643266833&sprefix=smartphone%2Caps%2C1097&sr=8-20',\n",
       " 'https://www.amazon.in/KALL-Smartphone-16GB-Display-Pink/dp/B09QML3RLH/ref=sr_1_21?crid=3FUXF8VF4UBDR&keywords=smartphone&qid=1643266833&sprefix=smartphone%2Caps%2C1097&sr=8-21',\n",
       " 'https://www.amazon.in/gp/slredirect/picassoRedirect.html/ref=pa_sp_mtf_aps_sr_pg2_1?ie=UTF8&adId=A06891272GS1H2VG4FUUV&url=%2FNokia-C20-Plus-Screen-Battery%2Fdp%2FB09BW5N7SZ%2Fref%3Dsr_1_22_sspa%3Fcrid%3D3FUXF8VF4UBDR%26keywords%3Dsmartphone%26qid%3D1643266833%26sprefix%3Dsmartphone%252Caps%252C1097%26sr%3D8-22-spons%26psc%3D1&qualifier=1643266833&id=6724569816201401&widgetName=sp_mtf',\n",
       " 'https://www.amazon.in/gp/slredirect/picassoRedirect.html/ref=pa_sp_mtf_aps_sr_pg2_1?ie=UTF8&adId=A08749572GHE6FI1FXS7N&url=%2FSamsung-Storage-Snapdragon-sAMOLED-Display%2Fdp%2FB09CV6FJ62%2Fref%3Dsr_1_23_sspa%3Fcrid%3D3FUXF8VF4UBDR%26keywords%3Dsmartphone%26qid%3D1643266833%26sprefix%3Dsmartphone%252Caps%252C1097%26sr%3D8-23-spons%26psc%3D1&qualifier=1643266833&id=6724569816201401&widgetName=sp_mtf',\n",
       " 'https://www.amazon.in/realme-narzo-Oxygen-128GB-Storage/dp/B09FK8MBMJ/ref=sr_1_24?crid=3FUXF8VF4UBDR&keywords=smartphone&qid=1643266833&sprefix=smartphone%2Caps%2C1097&sr=8-24',\n",
       " 'https://www.amazon.in/Renewed-BlackBerry-Curve-8520-Black/dp/B07QHYHH4M/ref=sr_1_25?crid=3FUXF8VF4UBDR&keywords=smartphone&qid=1643266833&sprefix=smartphone%2Caps%2C1097&sr=8-25',\n",
       " 'https://www.amazon.in/KALL-Smartphone-6-26-32GB-Grey/dp/B09QFV6QXW/ref=sr_1_26?crid=3FUXF8VF4UBDR&keywords=smartphone&qid=1643266833&sprefix=smartphone%2Caps%2C1097&sr=8-26',\n",
       " 'https://www.amazon.in/KALL-Smartphone-16GB-Display-Blue/dp/B09QMG6XCC/ref=sr_1_27?crid=3FUXF8VF4UBDR&keywords=smartphone&qid=1643266833&sprefix=smartphone%2Caps%2C1097&sr=8-27',\n",
       " 'https://www.amazon.in/Micromax-X419-Cocoa-Brown-Battery/dp/B09GRSQNW8/ref=sr_1_28?crid=3FUXF8VF4UBDR&keywords=smartphone&qid=1643266833&sprefix=smartphone%2Caps%2C1097&sr=8-28',\n",
       " 'https://www.amazon.in/KALL-Smartphone-16GB-Display-Green/dp/B09QMJL5PB/ref=sr_1_29?crid=3FUXF8VF4UBDR&keywords=smartphone&qid=1643266833&sprefix=smartphone%2Caps%2C1097&sr=8-29',\n",
       " 'https://www.amazon.in/Renewed-Panasonic-Storage-4000mAh-Battery/dp/B08HL8W1XM/ref=sr_1_30?crid=3FUXF8VF4UBDR&keywords=smartphone&qid=1643266833&sprefix=smartphone%2Caps%2C1097&sr=8-30',\n",
       " 'https://www.amazon.in/OPPO-Storage-Additional-Exchange-Offers/dp/B09PYHS2RN/ref=sr_1_31?crid=3FUXF8VF4UBDR&keywords=smartphone&qid=1643266833&sprefix=smartphone%2Caps%2C1097&sr=8-31',\n",
       " 'https://www.amazon.in/gp/slredirect/picassoRedirect.html/ref=pa_sp_btf_aps_sr_pg2_1?ie=UTF8&adId=A04466273OLCTWT2N4VCX&url=%2FSamsung-Galaxy-M12-Storage-Processor%2Fdp%2FB08XJCMGL7%2Fref%3Dsr_1_32_sspa%3Fcrid%3D3FUXF8VF4UBDR%26keywords%3Dsmartphone%26qid%3D1643266833%26sprefix%3Dsmartphone%252Caps%252C1097%26sr%3D8-32-spons%26psc%3D1&qualifier=1643266833&id=6724569816201401&widgetName=sp_btf',\n",
       " 'https://www.amazon.in/gp/slredirect/picassoRedirect.html/ref=pa_sp_btf_aps_sr_pg2_1?ie=UTF8&adId=A03924282DRXT4E2BKIVG&url=%2FSamsung-Galaxy-Slate-Black-Storage%2Fdp%2FB09CGM3H3Q%2Fref%3Dsr_1_33_sspa%3Fcrid%3D3FUXF8VF4UBDR%26keywords%3Dsmartphone%26qid%3D1643266833%26sprefix%3Dsmartphone%252Caps%252C1097%26sr%3D8-33-spons%26psc%3D1&qualifier=1643266833&id=6724569816201401&widgetName=sp_btf',\n",
       " 'https://www.amazon.in/gp/slredirect/picassoRedirect.html/ref=pa_sp_atf_next_aps_sr_pg2_1?ie=UTF8&adId=A00938693M7SC8QHTVCA5&url=%2FXiaomi-Celestial-Storage-HyperCharge-Exchange%2Fdp%2FB09Q18BKN9%2Fref%3Dsr_1_17_sspa%3Fcrid%3D3FUXF8VF4UBDR%26keywords%3Dsmartphone%26qid%3D1643266833%26sprefix%3Dsmartphone%252Caps%252C1097%26sr%3D8-17-spons%26psc%3D1&qualifier=1643266833&id=6724569816201401&widgetName=sp_atf_next',\n",
       " 'https://www.amazon.in/gp/slredirect/picassoRedirect.html/ref=pa_sp_atf_next_aps_sr_pg2_1?ie=UTF8&adId=A05959972VC9EP67FDW4T&url=%2FSamsung-Charcoal-Storage-Replacement-SM-M215GZKDINS%2Fdp%2FB098NFJXXL%2Fref%3Dsr_1_18_sspa%3Fcrid%3D3FUXF8VF4UBDR%26keywords%3Dsmartphone%26qid%3D1643266833%26sprefix%3Dsmartphone%252Caps%252C1097%26sr%3D8-18-spons%26psc%3D1&qualifier=1643266833&id=6724569816201401&widgetName=sp_atf_next',\n",
       " 'https://www.amazon.in/Tecno-5000mAh-Camera-Splash-Resistant/dp/B09PRDHRKV/ref=sr_1_19?crid=3FUXF8VF4UBDR&keywords=smartphone&qid=1643266833&sprefix=smartphone%2Caps%2C1097&sr=8-19',\n",
       " 'https://www.amazon.in/Lava-Notfication-recoding-Military-Certified/dp/B09BF8JBWX/ref=sr_1_20?crid=3FUXF8VF4UBDR&keywords=smartphone&qid=1643266833&sprefix=smartphone%2Caps%2C1097&sr=8-20',\n",
       " 'https://www.amazon.in/Tecno-Deepsea-Luster-5000mAh-Resistant/dp/B09PRDQN1C/ref=sr_1_21?crid=3FUXF8VF4UBDR&keywords=smartphone&qid=1643266833&sprefix=smartphone%2Caps%2C1097&sr=8-21',\n",
       " 'https://www.amazon.in/KALL-Smartphone-Inch-32GB-Blue/dp/B09Q5KZCDK/ref=sr_1_17?crid=3FUXF8VF4UBDR&keywords=smartphone&qid=1643266833&sprefix=smartphone%2Caps%2C1097&sr=8-17',\n",
       " 'https://www.amazon.in/Lava-A1-Blue-Silver/dp/B09BF91NV5/ref=sr_1_18?crid=3FUXF8VF4UBDR&keywords=smartphone&qid=1643266833&sprefix=smartphone%2Caps%2C1097&sr=8-18',\n",
       " 'https://www.amazon.in/KALL-Smartphone-6-26-32GB-Blue/dp/B09QG4VGLG/ref=sr_1_19?crid=3FUXF8VF4UBDR&keywords=smartphone&qid=1643266833&sprefix=smartphone%2Caps%2C1097&sr=8-19',\n",
       " 'https://www.amazon.in/Vivo-Dream-Additional-Exchange-Offers/dp/B09Q5VBG86/ref=sr_1_20?crid=3FUXF8VF4UBDR&keywords=smartphone&qid=1643266833&sprefix=smartphone%2Caps%2C1097&sr=8-20',\n",
       " 'https://www.amazon.in/KALL-Smartphone-16GB-Display-Pink/dp/B09QML3RLH/ref=sr_1_21?crid=3FUXF8VF4UBDR&keywords=smartphone&qid=1643266833&sprefix=smartphone%2Caps%2C1097&sr=8-21',\n",
       " 'https://www.amazon.in/gp/slredirect/picassoRedirect.html/ref=pa_sp_mtf_aps_sr_pg2_1?ie=UTF8&adId=A06891272GS1H2VG4FUUV&url=%2FNokia-C20-Plus-Screen-Battery%2Fdp%2FB09BW5N7SZ%2Fref%3Dsr_1_22_sspa%3Fcrid%3D3FUXF8VF4UBDR%26keywords%3Dsmartphone%26qid%3D1643266833%26sprefix%3Dsmartphone%252Caps%252C1097%26sr%3D8-22-spons%26psc%3D1&qualifier=1643266833&id=6724569816201401&widgetName=sp_mtf',\n",
       " 'https://www.amazon.in/gp/slredirect/picassoRedirect.html/ref=pa_sp_mtf_aps_sr_pg2_1?ie=UTF8&adId=A08749572GHE6FI1FXS7N&url=%2FSamsung-Storage-Snapdragon-sAMOLED-Display%2Fdp%2FB09CV6FJ62%2Fref%3Dsr_1_23_sspa%3Fcrid%3D3FUXF8VF4UBDR%26keywords%3Dsmartphone%26qid%3D1643266833%26sprefix%3Dsmartphone%252Caps%252C1097%26sr%3D8-23-spons%26psc%3D1&qualifier=1643266833&id=6724569816201401&widgetName=sp_mtf',\n",
       " 'https://www.amazon.in/realme-narzo-Oxygen-128GB-Storage/dp/B09FK8MBMJ/ref=sr_1_24?crid=3FUXF8VF4UBDR&keywords=smartphone&qid=1643266833&sprefix=smartphone%2Caps%2C1097&sr=8-24',\n",
       " 'https://www.amazon.in/Renewed-BlackBerry-Curve-8520-Black/dp/B07QHYHH4M/ref=sr_1_25?crid=3FUXF8VF4UBDR&keywords=smartphone&qid=1643266833&sprefix=smartphone%2Caps%2C1097&sr=8-25',\n",
       " 'https://www.amazon.in/KALL-Smartphone-6-26-32GB-Grey/dp/B09QFV6QXW/ref=sr_1_26?crid=3FUXF8VF4UBDR&keywords=smartphone&qid=1643266833&sprefix=smartphone%2Caps%2C1097&sr=8-26',\n",
       " 'https://www.amazon.in/KALL-Smartphone-16GB-Display-Blue/dp/B09QMG6XCC/ref=sr_1_27?crid=3FUXF8VF4UBDR&keywords=smartphone&qid=1643266833&sprefix=smartphone%2Caps%2C1097&sr=8-27',\n",
       " 'https://www.amazon.in/Micromax-X419-Cocoa-Brown-Battery/dp/B09GRSQNW8/ref=sr_1_28?crid=3FUXF8VF4UBDR&keywords=smartphone&qid=1643266833&sprefix=smartphone%2Caps%2C1097&sr=8-28',\n",
       " 'https://www.amazon.in/KALL-Smartphone-16GB-Display-Green/dp/B09QMJL5PB/ref=sr_1_29?crid=3FUXF8VF4UBDR&keywords=smartphone&qid=1643266833&sprefix=smartphone%2Caps%2C1097&sr=8-29',\n",
       " 'https://www.amazon.in/Renewed-Panasonic-Storage-4000mAh-Battery/dp/B08HL8W1XM/ref=sr_1_30?crid=3FUXF8VF4UBDR&keywords=smartphone&qid=1643266833&sprefix=smartphone%2Caps%2C1097&sr=8-30',\n",
       " 'https://www.amazon.in/OPPO-Storage-Additional-Exchange-Offers/dp/B09PYHS2RN/ref=sr_1_31?crid=3FUXF8VF4UBDR&keywords=smartphone&qid=1643266833&sprefix=smartphone%2Caps%2C1097&sr=8-31',\n",
       " 'https://www.amazon.in/gp/slredirect/picassoRedirect.html/ref=pa_sp_btf_aps_sr_pg2_1?ie=UTF8&adId=A04466273OLCTWT2N4VCX&url=%2FSamsung-Galaxy-M12-Storage-Processor%2Fdp%2FB08XJCMGL7%2Fref%3Dsr_1_32_sspa%3Fcrid%3D3FUXF8VF4UBDR%26keywords%3Dsmartphone%26qid%3D1643266833%26sprefix%3Dsmartphone%252Caps%252C1097%26sr%3D8-32-spons%26psc%3D1&qualifier=1643266833&id=6724569816201401&widgetName=sp_btf',\n",
       " 'https://www.amazon.in/gp/slredirect/picassoRedirect.html/ref=pa_sp_btf_aps_sr_pg2_1?ie=UTF8&adId=A03924282DRXT4E2BKIVG&url=%2FSamsung-Galaxy-Slate-Black-Storage%2Fdp%2FB09CGM3H3Q%2Fref%3Dsr_1_33_sspa%3Fcrid%3D3FUXF8VF4UBDR%26keywords%3Dsmartphone%26qid%3D1643266833%26sprefix%3Dsmartphone%252Caps%252C1097%26sr%3D8-33-spons%26psc%3D1&qualifier=1643266833&id=6724569816201401&widgetName=sp_btf',\n",
       " 'https://www.amazon.in/gp/slredirect/picassoRedirect.html/ref=pa_sp_atf_next_aps_sr_pg2_1?ie=UTF8&adId=A00938693M7SC8QHTVCA5&url=%2FXiaomi-Celestial-Storage-HyperCharge-Exchange%2Fdp%2FB09Q18BKN9%2Fref%3Dsr_1_17_sspa%3Fcrid%3D3FUXF8VF4UBDR%26keywords%3Dsmartphone%26qid%3D1643266833%26sprefix%3Dsmartphone%252Caps%252C1097%26sr%3D8-17-spons%26psc%3D1&qualifier=1643266833&id=6724569816201401&widgetName=sp_atf_next',\n",
       " 'https://www.amazon.in/gp/slredirect/picassoRedirect.html/ref=pa_sp_atf_next_aps_sr_pg2_1?ie=UTF8&adId=A05959972VC9EP67FDW4T&url=%2FSamsung-Charcoal-Storage-Replacement-SM-M215GZKDINS%2Fdp%2FB098NFJXXL%2Fref%3Dsr_1_18_sspa%3Fcrid%3D3FUXF8VF4UBDR%26keywords%3Dsmartphone%26qid%3D1643266833%26sprefix%3Dsmartphone%252Caps%252C1097%26sr%3D8-18-spons%26psc%3D1&qualifier=1643266833&id=6724569816201401&widgetName=sp_atf_next',\n",
       " 'https://www.amazon.in/Tecno-5000mAh-Camera-Splash-Resistant/dp/B09PRDHRKV/ref=sr_1_19?crid=3FUXF8VF4UBDR&keywords=smartphone&qid=1643266833&sprefix=smartphone%2Caps%2C1097&sr=8-19',\n",
       " 'https://www.amazon.in/Lava-Notfication-recoding-Military-Certified/dp/B09BF8JBWX/ref=sr_1_20?crid=3FUXF8VF4UBDR&keywords=smartphone&qid=1643266833&sprefix=smartphone%2Caps%2C1097&sr=8-20',\n",
       " 'https://www.amazon.in/Tecno-Deepsea-Luster-5000mAh-Resistant/dp/B09PRDQN1C/ref=sr_1_21?crid=3FUXF8VF4UBDR&keywords=smartphone&qid=1643266833&sprefix=smartphone%2Caps%2C1097&sr=8-21',\n",
       " 'https://www.amazon.in/KALL-Smartphone-Inch-32GB-Blue/dp/B09Q5KZCDK/ref=sr_1_17?crid=3FUXF8VF4UBDR&keywords=smartphone&qid=1643266833&sprefix=smartphone%2Caps%2C1097&sr=8-17',\n",
       " 'https://www.amazon.in/Lava-A1-Blue-Silver/dp/B09BF91NV5/ref=sr_1_18?crid=3FUXF8VF4UBDR&keywords=smartphone&qid=1643266833&sprefix=smartphone%2Caps%2C1097&sr=8-18',\n",
       " 'https://www.amazon.in/KALL-Smartphone-6-26-32GB-Blue/dp/B09QG4VGLG/ref=sr_1_19?crid=3FUXF8VF4UBDR&keywords=smartphone&qid=1643266833&sprefix=smartphone%2Caps%2C1097&sr=8-19',\n",
       " 'https://www.amazon.in/Vivo-Dream-Additional-Exchange-Offers/dp/B09Q5VBG86/ref=sr_1_20?crid=3FUXF8VF4UBDR&keywords=smartphone&qid=1643266833&sprefix=smartphone%2Caps%2C1097&sr=8-20',\n",
       " 'https://www.amazon.in/KALL-Smartphone-16GB-Display-Pink/dp/B09QML3RLH/ref=sr_1_21?crid=3FUXF8VF4UBDR&keywords=smartphone&qid=1643266833&sprefix=smartphone%2Caps%2C1097&sr=8-21',\n",
       " 'https://www.amazon.in/gp/slredirect/picassoRedirect.html/ref=pa_sp_mtf_aps_sr_pg2_1?ie=UTF8&adId=A06891272GS1H2VG4FUUV&url=%2FNokia-C20-Plus-Screen-Battery%2Fdp%2FB09BW5N7SZ%2Fref%3Dsr_1_22_sspa%3Fcrid%3D3FUXF8VF4UBDR%26keywords%3Dsmartphone%26qid%3D1643266833%26sprefix%3Dsmartphone%252Caps%252C1097%26sr%3D8-22-spons%26psc%3D1&qualifier=1643266833&id=6724569816201401&widgetName=sp_mtf',\n",
       " 'https://www.amazon.in/gp/slredirect/picassoRedirect.html/ref=pa_sp_mtf_aps_sr_pg2_1?ie=UTF8&adId=A08749572GHE6FI1FXS7N&url=%2FSamsung-Storage-Snapdragon-sAMOLED-Display%2Fdp%2FB09CV6FJ62%2Fref%3Dsr_1_23_sspa%3Fcrid%3D3FUXF8VF4UBDR%26keywords%3Dsmartphone%26qid%3D1643266833%26sprefix%3Dsmartphone%252Caps%252C1097%26sr%3D8-23-spons%26psc%3D1&qualifier=1643266833&id=6724569816201401&widgetName=sp_mtf',\n",
       " 'https://www.amazon.in/realme-narzo-Oxygen-128GB-Storage/dp/B09FK8MBMJ/ref=sr_1_24?crid=3FUXF8VF4UBDR&keywords=smartphone&qid=1643266833&sprefix=smartphone%2Caps%2C1097&sr=8-24',\n",
       " 'https://www.amazon.in/Renewed-BlackBerry-Curve-8520-Black/dp/B07QHYHH4M/ref=sr_1_25?crid=3FUXF8VF4UBDR&keywords=smartphone&qid=1643266833&sprefix=smartphone%2Caps%2C1097&sr=8-25',\n",
       " 'https://www.amazon.in/KALL-Smartphone-6-26-32GB-Grey/dp/B09QFV6QXW/ref=sr_1_26?crid=3FUXF8VF4UBDR&keywords=smartphone&qid=1643266833&sprefix=smartphone%2Caps%2C1097&sr=8-26',\n",
       " 'https://www.amazon.in/KALL-Smartphone-16GB-Display-Blue/dp/B09QMG6XCC/ref=sr_1_27?crid=3FUXF8VF4UBDR&keywords=smartphone&qid=1643266833&sprefix=smartphone%2Caps%2C1097&sr=8-27',\n",
       " 'https://www.amazon.in/Micromax-X419-Cocoa-Brown-Battery/dp/B09GRSQNW8/ref=sr_1_28?crid=3FUXF8VF4UBDR&keywords=smartphone&qid=1643266833&sprefix=smartphone%2Caps%2C1097&sr=8-28',\n",
       " 'https://www.amazon.in/KALL-Smartphone-16GB-Display-Green/dp/B09QMJL5PB/ref=sr_1_29?crid=3FUXF8VF4UBDR&keywords=smartphone&qid=1643266833&sprefix=smartphone%2Caps%2C1097&sr=8-29',\n",
       " 'https://www.amazon.in/Renewed-Panasonic-Storage-4000mAh-Battery/dp/B08HL8W1XM/ref=sr_1_30?crid=3FUXF8VF4UBDR&keywords=smartphone&qid=1643266833&sprefix=smartphone%2Caps%2C1097&sr=8-30',\n",
       " 'https://www.amazon.in/OPPO-Storage-Additional-Exchange-Offers/dp/B09PYHS2RN/ref=sr_1_31?crid=3FUXF8VF4UBDR&keywords=smartphone&qid=1643266833&sprefix=smartphone%2Caps%2C1097&sr=8-31',\n",
       " 'https://www.amazon.in/gp/slredirect/picassoRedirect.html/ref=pa_sp_btf_aps_sr_pg2_1?ie=UTF8&adId=A04466273OLCTWT2N4VCX&url=%2FSamsung-Galaxy-M12-Storage-Processor%2Fdp%2FB08XJCMGL7%2Fref%3Dsr_1_32_sspa%3Fcrid%3D3FUXF8VF4UBDR%26keywords%3Dsmartphone%26qid%3D1643266833%26sprefix%3Dsmartphone%252Caps%252C1097%26sr%3D8-32-spons%26psc%3D1&qualifier=1643266833&id=6724569816201401&widgetName=sp_btf',\n",
       " 'https://www.amazon.in/gp/slredirect/picassoRedirect.html/ref=pa_sp_btf_aps_sr_pg2_1?ie=UTF8&adId=A03924282DRXT4E2BKIVG&url=%2FSamsung-Galaxy-Slate-Black-Storage%2Fdp%2FB09CGM3H3Q%2Fref%3Dsr_1_33_sspa%3Fcrid%3D3FUXF8VF4UBDR%26keywords%3Dsmartphone%26qid%3D1643266833%26sprefix%3Dsmartphone%252Caps%252C1097%26sr%3D8-33-spons%26psc%3D1&qualifier=1643266833&id=6724569816201401&widgetName=sp_btf']"
      ]
     },
     "execution_count": 32,
     "metadata": {},
     "output_type": "execute_result"
    }
   ],
   "source": [
    "Url=[]\n",
    "for j in Url1: \n",
    "    for i in driver.find_elements_by_xpath(\"//a[@class='a-link-normal s-link-style a-text-normal']\"):\n",
    "        Url.append(i.get_attribute(\"href\"))\n",
    "Url"
   ]
  },
  {
   "cell_type": "code",
   "execution_count": 33,
   "id": "815454d1",
   "metadata": {},
   "outputs": [
    {
     "data": {
      "text/plain": [
       "66"
      ]
     },
     "execution_count": 33,
     "metadata": {},
     "output_type": "execute_result"
    }
   ],
   "source": [
    "len(Url)"
   ]
  },
  {
   "cell_type": "code",
   "execution_count": 34,
   "id": "7d98357c",
   "metadata": {},
   "outputs": [],
   "source": [
    "for k in Url:\n",
    "    driver.get(k)\n",
    "    time.sleep(10)\n",
    "    #fetching Name_ofthe_product\n",
    "    try:\n",
    "        name=driver.find_element_by_xpath('//span[@class=\"a-size-large product-title-word-break\"]')\n",
    "        Name_ofthe_product.append(name.text.replace(\"/n\",\"new line\"))\n",
    "    except:\n",
    "        Name_ofthe_product.append('-')\n",
    "    #fetching Price\n",
    "    try:\n",
    "        name=driver.find_element_by_xpath('//span[@class=\"a-price a-text-price a-size-medium apexPriceToPay\"]')\n",
    "        Price.append(name.text.replace(\"/n\",\"new line\"))\n",
    "    except:\n",
    "        Price.append('-')\n",
    "        #fetching Return_on_Exchange   \n",
    "    try:\n",
    "        name=driver.find_element_by_xpath('//span[@class=\"a-color-price\"]')\n",
    "        Return_on_Exchange.append(name.text.replace(\"/n\",\"new line\"))\n",
    "    except:\n",
    "        Return_on_Exchange.append('-')\n",
    "        #fetching Expected_delivery     \n",
    "    try:\n",
    "        name=driver.find_element_by_xpath('//div[@class=\"a-section a-spacing-mini\"]/b')\n",
    "        Expected_delivery.append(name.text.replace(\"/n\",\"new line\"))\n",
    "    except:\n",
    "        Expected_delivery.append('-')\n",
    "    #fetching Availability         \n",
    "    try:\n",
    "        name=driver.find_element_by_xpath('//span[@class=\"a-size-medium a-color-success\"]')\n",
    "        Availability.append(name.text.replace(\"/n\",\"new line\"))\n",
    "    except:\n",
    "        Availability.append('-')    \n",
    "        #fetching Product_URL        \n",
    "    try:\n",
    "        name=driver.find_element_by_xpath('//span[@class=\"a-size-medium a-color-base a-text-normal\"]')\n",
    "        Product_URL.append(name.text.replace(\"/n\",\"new line\"))\n",
    "    except:\n",
    "        Product_URL.append('-')    "
   ]
  },
  {
   "cell_type": "code",
   "execution_count": 35,
   "id": "d0a9866a",
   "metadata": {},
   "outputs": [
    {
     "data": {
      "text/plain": [
       "(66, 66, 66, 66, 66, 66)"
      ]
     },
     "execution_count": 35,
     "metadata": {},
     "output_type": "execute_result"
    }
   ],
   "source": [
    "len(Name_ofthe_product),len(Price),len(Return_on_Exchange),len(Expected_delivery),len(Availability),len(Product_URL)"
   ]
  },
  {
   "cell_type": "code",
   "execution_count": 36,
   "id": "1b7514b2",
   "metadata": {},
   "outputs": [
    {
     "data": {
      "text/html": [
       "<div>\n",
       "<style scoped>\n",
       "    .dataframe tbody tr th:only-of-type {\n",
       "        vertical-align: middle;\n",
       "    }\n",
       "\n",
       "    .dataframe tbody tr th {\n",
       "        vertical-align: top;\n",
       "    }\n",
       "\n",
       "    .dataframe thead th {\n",
       "        text-align: right;\n",
       "    }\n",
       "</style>\n",
       "<table border=\"1\" class=\"dataframe\">\n",
       "  <thead>\n",
       "    <tr style=\"text-align: right;\">\n",
       "      <th></th>\n",
       "      <th>Product name</th>\n",
       "      <th>Price</th>\n",
       "      <th>Return on exchange</th>\n",
       "      <th>Expected delivery</th>\n",
       "      <th>Availability</th>\n",
       "      <th>Product URL</th>\n",
       "    </tr>\n",
       "  </thead>\n",
       "  <tbody>\n",
       "    <tr>\n",
       "      <th>0</th>\n",
       "      <td>Xiaomi 11T Pro 5G (Celestial Magic, 8GB RAM, 2...</td>\n",
       "      <td>₹41,999.00</td>\n",
       "      <td>Up to    19,950.00 off</td>\n",
       "      <td>Saturday, Jan 29</td>\n",
       "      <td>In stock.</td>\n",
       "      <td>-</td>\n",
       "    </tr>\n",
       "    <tr>\n",
       "      <th>1</th>\n",
       "      <td>Samsung Galaxy M21 2021 Edition (Charcoal Blac...</td>\n",
       "      <td>₹12,999.00</td>\n",
       "      <td>Up to    12,150.00 off</td>\n",
       "      <td>Saturday, Jan 29</td>\n",
       "      <td>In stock.</td>\n",
       "      <td>-</td>\n",
       "    </tr>\n",
       "    <tr>\n",
       "      <th>2</th>\n",
       "      <td>Tecno Pop 5 LTE(Ice Blue 2G+32G)| 6.52\" HD+Dot...</td>\n",
       "      <td>₹6,899.00</td>\n",
       "      <td>Up to    6,500.00 off</td>\n",
       "      <td>Saturday, Jan 29</td>\n",
       "      <td>In stock.</td>\n",
       "      <td>-</td>\n",
       "    </tr>\n",
       "    <tr>\n",
       "      <th>3</th>\n",
       "      <td>Lava A1 Josh 21-Dual Sim |Call Blink Notficati...</td>\n",
       "      <td>₹979.00</td>\n",
       "      <td>Up to    900.00 off</td>\n",
       "      <td>Saturday, Jan 29</td>\n",
       "      <td>In stock.</td>\n",
       "      <td>-</td>\n",
       "    </tr>\n",
       "    <tr>\n",
       "      <th>4</th>\n",
       "      <td>Tecno Pop 5 LTE(Deepsea Luster 2G+32G)| 6.52\" ...</td>\n",
       "      <td>₹6,899.00</td>\n",
       "      <td>Up to    6,500.00 off</td>\n",
       "      <td>Saturday, Jan 29</td>\n",
       "      <td>In stock.</td>\n",
       "      <td>-</td>\n",
       "    </tr>\n",
       "    <tr>\n",
       "      <th>...</th>\n",
       "      <td>...</td>\n",
       "      <td>...</td>\n",
       "      <td>...</td>\n",
       "      <td>...</td>\n",
       "      <td>...</td>\n",
       "      <td>...</td>\n",
       "    </tr>\n",
       "    <tr>\n",
       "      <th>61</th>\n",
       "      <td>I KALL Z5 Smartphone (3GB, 16GB, 5.5\" Display)...</td>\n",
       "      <td>₹4,999.00</td>\n",
       "      <td>Up to    4,700.00 off</td>\n",
       "      <td>Tuesday, Feb 1</td>\n",
       "      <td>In stock.</td>\n",
       "      <td>-</td>\n",
       "    </tr>\n",
       "    <tr>\n",
       "      <th>62</th>\n",
       "      <td>(Renewed) Panasonic Eluga i7 (2GB RAM, 16GB St...</td>\n",
       "      <td>₹5,399.00</td>\n",
       "      <td>₹5,600.00 (50%)</td>\n",
       "      <td>Tuesday, Feb 1</td>\n",
       "      <td>In stock.</td>\n",
       "      <td>-</td>\n",
       "    </tr>\n",
       "    <tr>\n",
       "      <th>63</th>\n",
       "      <td>OPPO A16k (Blue, 3GB RAM, 32GB Storage) with N...</td>\n",
       "      <td>₹10,490.00</td>\n",
       "      <td>Up to    9,800.00 off</td>\n",
       "      <td>Saturday, Jan 29</td>\n",
       "      <td>In stock.</td>\n",
       "      <td>-</td>\n",
       "    </tr>\n",
       "    <tr>\n",
       "      <th>64</th>\n",
       "      <td>Samsung Galaxy M12 (Black,4GB RAM, 64GB Storag...</td>\n",
       "      <td>₹11,499.00</td>\n",
       "      <td>Up to    10,900.00 off</td>\n",
       "      <td>Saturday, Jan 29</td>\n",
       "      <td>In stock.</td>\n",
       "      <td>-</td>\n",
       "    </tr>\n",
       "    <tr>\n",
       "      <th>65</th>\n",
       "      <td>Samsung Galaxy M32 5G (Slate Black, 8GB RAM, 1...</td>\n",
       "      <td>₹22,999.00</td>\n",
       "      <td>Up to    14,950.00 off</td>\n",
       "      <td>Saturday, Jan 29</td>\n",
       "      <td>In stock.</td>\n",
       "      <td>-</td>\n",
       "    </tr>\n",
       "  </tbody>\n",
       "</table>\n",
       "<p>66 rows × 6 columns</p>\n",
       "</div>"
      ],
      "text/plain": [
       "                                         Product name       Price  \\\n",
       "0   Xiaomi 11T Pro 5G (Celestial Magic, 8GB RAM, 2...  ₹41,999.00   \n",
       "1   Samsung Galaxy M21 2021 Edition (Charcoal Blac...  ₹12,999.00   \n",
       "2   Tecno Pop 5 LTE(Ice Blue 2G+32G)| 6.52\" HD+Dot...   ₹6,899.00   \n",
       "3   Lava A1 Josh 21-Dual Sim |Call Blink Notficati...     ₹979.00   \n",
       "4   Tecno Pop 5 LTE(Deepsea Luster 2G+32G)| 6.52\" ...   ₹6,899.00   \n",
       "..                                                ...         ...   \n",
       "61  I KALL Z5 Smartphone (3GB, 16GB, 5.5\" Display)...   ₹4,999.00   \n",
       "62  (Renewed) Panasonic Eluga i7 (2GB RAM, 16GB St...   ₹5,399.00   \n",
       "63  OPPO A16k (Blue, 3GB RAM, 32GB Storage) with N...  ₹10,490.00   \n",
       "64  Samsung Galaxy M12 (Black,4GB RAM, 64GB Storag...  ₹11,499.00   \n",
       "65  Samsung Galaxy M32 5G (Slate Black, 8GB RAM, 1...  ₹22,999.00   \n",
       "\n",
       "        Return on exchange Expected delivery Availability Product URL  \n",
       "0   Up to    19,950.00 off  Saturday, Jan 29    In stock.           -  \n",
       "1   Up to    12,150.00 off  Saturday, Jan 29    In stock.           -  \n",
       "2    Up to    6,500.00 off  Saturday, Jan 29    In stock.           -  \n",
       "3      Up to    900.00 off  Saturday, Jan 29    In stock.           -  \n",
       "4    Up to    6,500.00 off  Saturday, Jan 29    In stock.           -  \n",
       "..                     ...               ...          ...         ...  \n",
       "61   Up to    4,700.00 off    Tuesday, Feb 1    In stock.           -  \n",
       "62         ₹5,600.00 (50%)    Tuesday, Feb 1    In stock.           -  \n",
       "63   Up to    9,800.00 off  Saturday, Jan 29    In stock.           -  \n",
       "64  Up to    10,900.00 off  Saturday, Jan 29    In stock.           -  \n",
       "65  Up to    14,950.00 off  Saturday, Jan 29    In stock.           -  \n",
       "\n",
       "[66 rows x 6 columns]"
      ]
     },
     "execution_count": 36,
     "metadata": {},
     "output_type": "execute_result"
    }
   ],
   "source": [
    "Product1=pd.DataFrame()\n",
    "Product1['Product name']= Name_ofthe_product\n",
    "Product1['Price']= Price\n",
    "Product1['Return on exchange']= Return_on_Exchange\n",
    "Product1['Expected delivery']= Expected_delivery\n",
    "Product1['Availability']= Availability\n",
    "Product1['Product URL']=Product_URL\n",
    "Product1"
   ]
  },
  {
   "cell_type": "code",
   "execution_count": null,
   "id": "3ce01b2d",
   "metadata": {},
   "outputs": [],
   "source": []
  }
 ],
 "metadata": {
  "kernelspec": {
   "display_name": "Python 3",
   "language": "python",
   "name": "python3"
  },
  "language_info": {
   "codemirror_mode": {
    "name": "ipython",
    "version": 3
   },
   "file_extension": ".py",
   "mimetype": "text/x-python",
   "name": "python",
   "nbconvert_exporter": "python",
   "pygments_lexer": "ipython3",
   "version": "3.8.8"
  }
 },
 "nbformat": 4,
 "nbformat_minor": 5
}
