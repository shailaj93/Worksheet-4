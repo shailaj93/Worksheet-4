{
 "cells": [
  {
   "cell_type": "code",
   "execution_count": 5,
   "id": "f039f1ae",
   "metadata": {},
   "outputs": [
    {
     "name": "stdout",
     "output_type": "stream",
     "text": [
      "Requirement already satisfied: selenium in c:\\users\\ayushi\\anaconda3\\lib\\site-packages (4.1.0)\n",
      "Requirement already satisfied: urllib3[secure]~=1.26 in c:\\users\\ayushi\\anaconda3\\lib\\site-packages (from selenium) (1.26.4)\n",
      "Requirement already satisfied: trio~=0.17 in c:\\users\\ayushi\\anaconda3\\lib\\site-packages (from selenium) (0.19.0)\n",
      "Requirement already satisfied: trio-websocket~=0.9 in c:\\users\\ayushi\\anaconda3\\lib\\site-packages (from selenium) (0.9.2)\n",
      "Requirement already satisfied: attrs>=19.2.0 in c:\\users\\ayushi\\anaconda3\\lib\\site-packages (from trio~=0.17->selenium) (20.3.0)\n",
      "Requirement already satisfied: async-generator>=1.9 in c:\\users\\ayushi\\anaconda3\\lib\\site-packages (from trio~=0.17->selenium) (1.10)\n",
      "Requirement already satisfied: sniffio in c:\\users\\ayushi\\anaconda3\\lib\\site-packages (from trio~=0.17->selenium) (1.2.0)\n",
      "Requirement already satisfied: idna in c:\\users\\ayushi\\anaconda3\\lib\\site-packages (from trio~=0.17->selenium) (2.10)\n",
      "Requirement already satisfied: sortedcontainers in c:\\users\\ayushi\\anaconda3\\lib\\site-packages (from trio~=0.17->selenium) (2.3.0)\n",
      "Requirement already satisfied: outcome in c:\\users\\ayushi\\anaconda3\\lib\\site-packages (from trio~=0.17->selenium) (1.1.0)\n",
      "Requirement already satisfied: cffi>=1.14 in c:\\users\\ayushi\\anaconda3\\lib\\site-packages (from trio~=0.17->selenium) (1.14.5)\n",
      "Requirement already satisfied: pycparser in c:\\users\\ayushi\\anaconda3\\lib\\site-packages (from cffi>=1.14->trio~=0.17->selenium) (2.20)\n",
      "Requirement already satisfied: wsproto>=0.14 in c:\\users\\ayushi\\anaconda3\\lib\\site-packages (from trio-websocket~=0.9->selenium) (1.0.0)\n",
      "Requirement already satisfied: certifi in c:\\users\\ayushi\\anaconda3\\lib\\site-packages (from urllib3[secure]~=1.26->selenium) (2020.12.5)\n",
      "Requirement already satisfied: pyOpenSSL>=0.14 in c:\\users\\ayushi\\anaconda3\\lib\\site-packages (from urllib3[secure]~=1.26->selenium) (20.0.1)\n",
      "Requirement already satisfied: cryptography>=1.3.4 in c:\\users\\ayushi\\anaconda3\\lib\\site-packages (from urllib3[secure]~=1.26->selenium) (3.4.7)\n",
      "Requirement already satisfied: six>=1.5.2 in c:\\users\\ayushi\\anaconda3\\lib\\site-packages (from pyOpenSSL>=0.14->urllib3[secure]~=1.26->selenium) (1.15.0)\n",
      "Requirement already satisfied: h11<1,>=0.9.0 in c:\\users\\ayushi\\anaconda3\\lib\\site-packages (from wsproto>=0.14->trio-websocket~=0.9->selenium) (0.12.0)\n"
     ]
    }
   ],
   "source": [
    "!pip install selenium\n"
   ]
  },
  {
   "cell_type": "code",
   "execution_count": 6,
   "id": "5c2929b7",
   "metadata": {},
   "outputs": [],
   "source": [
    "import pandas as pd\n",
    "import selenium\n",
    "from selenium import webdriver\n",
    "import time\n",
    "from selenium.common.exceptions import NoSuchElementException\n",
    "import warnings\n",
    "warnings.filterwarnings('ignore')"
   ]
  },
  {
   "cell_type": "code",
   "execution_count": 7,
   "id": "02c3cca4",
   "metadata": {},
   "outputs": [],
   "source": [
    "driver=webdriver.Chrome(r'C:\\Users\\AYUSHI\\Downloads\\chromedriver_win32\\chromedriver.exe')"
   ]
  },
  {
   "cell_type": "code",
   "execution_count": 8,
   "id": "45ac9461",
   "metadata": {},
   "outputs": [],
   "source": [
    "driver.get(\"https://www.digit.in/\")"
   ]
  },
  {
   "cell_type": "code",
   "execution_count": 9,
   "id": "0622a310",
   "metadata": {},
   "outputs": [
    {
     "data": {
      "text/plain": [
       "<selenium.webdriver.remote.webelement.WebElement (session=\"171e0cfdb7f9db5e56196358308578a2\", element=\"d84db0f8-7a1d-40ef-8247-5168f58058bb\")>"
      ]
     },
     "execution_count": 9,
     "metadata": {},
     "output_type": "execute_result"
    }
   ],
   "source": [
    "Best_Gaming_Laptop=driver.find_element_by_xpath('/html/body/div[4]/div/div[2]/div[2]/div[4]/ul/li[9]/a')\n",
    "Best_Gaming_Laptop"
   ]
  },
  {
   "cell_type": "code",
   "execution_count": 10,
   "id": "cbbce2c9",
   "metadata": {},
   "outputs": [],
   "source": [
    "Best_Gaming_Laptop.click()"
   ]
  },
  {
   "cell_type": "code",
   "execution_count": 11,
   "id": "25b1df56",
   "metadata": {},
   "outputs": [],
   "source": [
    "Laptop_name=[]\n",
    "OS=[]\n",
    "Display=[] \n",
    "Processor=[]\n",
    "Memory=[] \n",
    "Weight=[] \n",
    "Dimension=[]\n",
    "Graphic_Processor=[]\n",
    "Seller=[]\n",
    "Price=[]\n",
    "Product_desc=[]"
   ]
  },
  {
   "cell_type": "code",
   "execution_count": 12,
   "id": "e98b7bf9",
   "metadata": {},
   "outputs": [
    {
     "data": {
      "text/plain": [
       "10"
      ]
     },
     "execution_count": 12,
     "metadata": {},
     "output_type": "execute_result"
    }
   ],
   "source": [
    "name_tags=driver.find_elements_by_xpath('//h3')\n",
    "len(name_tags)"
   ]
  },
  {
   "cell_type": "code",
   "execution_count": 13,
   "id": "cd9ae254",
   "metadata": {},
   "outputs": [],
   "source": [
    "Laptop_name=[]\n",
    "for i in name_tags:\n",
    "    Laptop_name.append(i.text)"
   ]
  },
  {
   "cell_type": "code",
   "execution_count": 14,
   "id": "52e5e804",
   "metadata": {},
   "outputs": [
    {
     "data": {
      "text/plain": [
       "10"
      ]
     },
     "execution_count": 14,
     "metadata": {},
     "output_type": "execute_result"
    }
   ],
   "source": [
    "os_tags=driver.find_elements_by_xpath('//div[@class=\"Spcs-details\"]/table/tbody/tr[3]/td[3]')\n",
    "len(os_tags)"
   ]
  },
  {
   "cell_type": "code",
   "execution_count": 15,
   "id": "a96ad09f",
   "metadata": {},
   "outputs": [],
   "source": [
    "OS=[]\n",
    "for i in os_tags:\n",
    "    OS.append(i.text)"
   ]
  },
  {
   "cell_type": "code",
   "execution_count": 16,
   "id": "75f076e9",
   "metadata": {},
   "outputs": [
    {
     "data": {
      "text/plain": [
       "10"
      ]
     },
     "execution_count": 16,
     "metadata": {},
     "output_type": "execute_result"
    }
   ],
   "source": [
    "disp_tags=driver.find_elements_by_xpath('//div[@class=\"Spcs-details\"]/table/tbody/tr[4]/td[3]')\n",
    "len(disp_tags)"
   ]
  },
  {
   "cell_type": "code",
   "execution_count": 17,
   "id": "9e5ba82a",
   "metadata": {},
   "outputs": [],
   "source": [
    "Display=[]\n",
    "for i in disp_tags:\n",
    "    Display.append(i.text)"
   ]
  },
  {
   "cell_type": "code",
   "execution_count": 18,
   "id": "e9f059fc",
   "metadata": {},
   "outputs": [
    {
     "data": {
      "text/plain": [
       "10"
      ]
     },
     "execution_count": 18,
     "metadata": {},
     "output_type": "execute_result"
    }
   ],
   "source": [
    "pro_tags=driver.find_elements_by_xpath('//div[@class=\"Spcs-details\"]/table/tbody/tr[5]/td[3]')\n",
    "len(pro_tags)"
   ]
  },
  {
   "cell_type": "code",
   "execution_count": 20,
   "id": "3071aac1",
   "metadata": {},
   "outputs": [],
   "source": [
    "Processor=[]\n",
    "for i in pro_tags:\n",
    "    Processor.append(i.text)"
   ]
  },
  {
   "cell_type": "code",
   "execution_count": 21,
   "id": "7aa37928",
   "metadata": {},
   "outputs": [
    {
     "data": {
      "text/plain": [
       "10"
      ]
     },
     "execution_count": 21,
     "metadata": {},
     "output_type": "execute_result"
    }
   ],
   "source": [
    "mem_tags=driver.find_elements_by_xpath('//div[@class=\"Spcs-details\"]/table/tbody/tr[6]/td[3]')\n",
    "len(mem_tags)"
   ]
  },
  {
   "cell_type": "code",
   "execution_count": 22,
   "id": "a423d05e",
   "metadata": {},
   "outputs": [],
   "source": [
    "Memory=[]\n",
    "for i in mem_tags:\n",
    "    Memory.append(i.text)"
   ]
  },
  {
   "cell_type": "code",
   "execution_count": 23,
   "id": "19cc5f90",
   "metadata": {},
   "outputs": [
    {
     "data": {
      "text/plain": [
       "10"
      ]
     },
     "execution_count": 23,
     "metadata": {},
     "output_type": "execute_result"
    }
   ],
   "source": [
    "wt_tags=driver.find_elements_by_xpath('//div[@class=\"Spcs-details\"]/table/tbody/tr[7]/td[3]')\n",
    "len(wt_tags)"
   ]
  },
  {
   "cell_type": "code",
   "execution_count": 25,
   "id": "e2a12ca0",
   "metadata": {},
   "outputs": [],
   "source": [
    "Weight=[]\n",
    "for i in wt_tags:\n",
    "    Weight.append(i.text)"
   ]
  },
  {
   "cell_type": "code",
   "execution_count": 26,
   "id": "04c1314b",
   "metadata": {},
   "outputs": [
    {
     "data": {
      "text/plain": [
       "10"
      ]
     },
     "execution_count": 26,
     "metadata": {},
     "output_type": "execute_result"
    }
   ],
   "source": [
    "dim_tags=driver.find_elements_by_xpath('//div[@class=\"Spcs-details\"]/table/tbody/tr[8]/td[3]')\n",
    "len(dim_tags)"
   ]
  },
  {
   "cell_type": "code",
   "execution_count": 28,
   "id": "0897a352",
   "metadata": {},
   "outputs": [],
   "source": [
    "Dimension=[]\n",
    "for i in dim_tags:\n",
    "    Dimension.append(i.text)"
   ]
  },
  {
   "cell_type": "code",
   "execution_count": 29,
   "id": "37374d0b",
   "metadata": {},
   "outputs": [
    {
     "data": {
      "text/plain": [
       "10"
      ]
     },
     "execution_count": 29,
     "metadata": {},
     "output_type": "execute_result"
    }
   ],
   "source": [
    "gp_tags=driver.find_elements_by_xpath('//div[@class=\"Spcs-details\"]/table/tbody/tr[8]/td[3]')\n",
    "len(gp_tags)"
   ]
  },
  {
   "cell_type": "code",
   "execution_count": 30,
   "id": "ab9bc276",
   "metadata": {},
   "outputs": [],
   "source": [
    "Graphic_Processor=[]\n",
    "for i in gp_tags:\n",
    "    Graphic_Processor.append(i.text)"
   ]
  },
  {
   "cell_type": "code",
   "execution_count": 32,
   "id": "2f33dd6a",
   "metadata": {},
   "outputs": [
    {
     "data": {
      "text/plain": [
       "10"
      ]
     },
     "execution_count": 32,
     "metadata": {},
     "output_type": "execute_result"
    }
   ],
   "source": [
    "sell_tags=driver.find_elements_by_xpath('//td[@class=\"smmerchant\"]')\n",
    "len(sell_tags)"
   ]
  },
  {
   "cell_type": "code",
   "execution_count": 33,
   "id": "11ffcbb7",
   "metadata": {},
   "outputs": [],
   "source": [
    "Seller=[]\n",
    "for i in sell_tags:\n",
    "    Seller.append(i.text)"
   ]
  },
  {
   "cell_type": "code",
   "execution_count": 34,
   "id": "6e7b25f4",
   "metadata": {},
   "outputs": [
    {
     "data": {
      "text/plain": [
       "10"
      ]
     },
     "execution_count": 34,
     "metadata": {},
     "output_type": "execute_result"
    }
   ],
   "source": [
    "pp_tags=driver.find_elements_by_xpath('//td[@class=\"smprice\"]')\n",
    "len(pp_tags)"
   ]
  },
  {
   "cell_type": "code",
   "execution_count": 35,
   "id": "9f7ee539",
   "metadata": {},
   "outputs": [],
   "source": [
    "Price=[]\n",
    "for i in pp_tags:\n",
    "    Price.append(i.text)"
   ]
  },
  {
   "cell_type": "code",
   "execution_count": 36,
   "id": "20530c23",
   "metadata": {},
   "outputs": [
    {
     "data": {
      "text/plain": [
       "10"
      ]
     },
     "execution_count": 36,
     "metadata": {},
     "output_type": "execute_result"
    }
   ],
   "source": [
    "pd_tags=driver.find_elements_by_xpath('//div[@class=\"Section-center\"]/p')\n",
    "len(pd_tags)"
   ]
  },
  {
   "cell_type": "code",
   "execution_count": 37,
   "id": "0edc7fcf",
   "metadata": {},
   "outputs": [],
   "source": [
    "Product_desc=[]\n",
    "for i in pd_tags:\n",
    "    Product_desc.append(i.text)"
   ]
  },
  {
   "cell_type": "code",
   "execution_count": 41,
   "id": "56d97709",
   "metadata": {
    "scrolled": true
   },
   "outputs": [
    {
     "data": {
      "text/plain": [
       "(10, 10, 10, 10, 10, 10, 10, 10, 10, 10, 10)"
      ]
     },
     "execution_count": 41,
     "metadata": {},
     "output_type": "execute_result"
    }
   ],
   "source": [
    "len(Laptop_name),len(OS),len(Display),len(Processor),len(Memory),len(Weight),len(Dimension),len(Graphic_Processor),len(Seller),len(Price),len(Product_desc)"
   ]
  },
  {
   "cell_type": "code",
   "execution_count": 42,
   "id": "53b778f9",
   "metadata": {},
   "outputs": [
    {
     "data": {
      "text/html": [
       "<div>\n",
       "<style scoped>\n",
       "    .dataframe tbody tr th:only-of-type {\n",
       "        vertical-align: middle;\n",
       "    }\n",
       "\n",
       "    .dataframe tbody tr th {\n",
       "        vertical-align: top;\n",
       "    }\n",
       "\n",
       "    .dataframe thead th {\n",
       "        text-align: right;\n",
       "    }\n",
       "</style>\n",
       "<table border=\"1\" class=\"dataframe\">\n",
       "  <thead>\n",
       "    <tr style=\"text-align: right;\">\n",
       "      <th></th>\n",
       "      <th>Laptop_name</th>\n",
       "      <th>OS</th>\n",
       "      <th>Display</th>\n",
       "      <th>Processor</th>\n",
       "      <th>Memory</th>\n",
       "      <th>Weight</th>\n",
       "      <th>Dimension</th>\n",
       "      <th>Graphic_Processor</th>\n",
       "      <th>Seller</th>\n",
       "      <th>Price</th>\n",
       "      <th>Product_desc</th>\n",
       "    </tr>\n",
       "  </thead>\n",
       "  <tbody>\n",
       "    <tr>\n",
       "      <th>0</th>\n",
       "      <td>ACER NITRO 5</td>\n",
       "      <td>Windows 10</td>\n",
       "      <td>15.6\" (1920 x 1080)</td>\n",
       "      <td>AMD Ryzen 9 Octa Core | 2.4 GHz</td>\n",
       "      <td>1 TB HDD/16 GBGB DDR4</td>\n",
       "      <td>2.4</td>\n",
       "      <td>363.4 x 255 x 23.9</td>\n",
       "      <td>363.4 x 255 x 23.9</td>\n",
       "      <td>Flipkart</td>\n",
       "      <td>₹ 129,990</td>\n",
       "      <td>2.4</td>\n",
       "    </tr>\n",
       "    <tr>\n",
       "      <th>1</th>\n",
       "      <td>MSI STEALTH 15M</td>\n",
       "      <td>Windows 10</td>\n",
       "      <td>15.6\" (1920 x 1080)</td>\n",
       "      <td>Intel Core i7 11th Gen - 11375H | NA</td>\n",
       "      <td>1 TB SSD/16 GBGB DDR4</td>\n",
       "      <td>1.7</td>\n",
       "      <td>358.3 x 248 x 16.15</td>\n",
       "      <td>358.3 x 248 x 16.15</td>\n",
       "      <td>Flipkart</td>\n",
       "      <td>₹ 134,990</td>\n",
       "      <td>1.7</td>\n",
       "    </tr>\n",
       "    <tr>\n",
       "      <th>2</th>\n",
       "      <td>ASUS ROG STRIX SCAR 15</td>\n",
       "      <td>Windows 10</td>\n",
       "      <td>15.6\" (2560 x 1440)</td>\n",
       "      <td>AMD Ryzen 9 Octa Core - 5900HX | 3.3 GHz</td>\n",
       "      <td>2 TB SSD/32 GBGB DDR4</td>\n",
       "      <td>2.30</td>\n",
       "      <td>354 x 259 x 22.6</td>\n",
       "      <td>354 x 259 x 22.6</td>\n",
       "      <td>Flipkart</td>\n",
       "      <td>₹ 268,990</td>\n",
       "      <td>2.30</td>\n",
       "    </tr>\n",
       "    <tr>\n",
       "      <th>3</th>\n",
       "      <td>ALIENWARE AREA 51M R2</td>\n",
       "      <td>Windows 10 Home</td>\n",
       "      <td>17.3\" (1920 x 1080)</td>\n",
       "      <td>10th Gen Intel® Core™ i7-10700 | 2.90 GHz</td>\n",
       "      <td>1 TB SSD/16 GBGB DDR4</td>\n",
       "      <td>4.1</td>\n",
       "      <td>27.65 x 402.6 x 319.14</td>\n",
       "      <td>27.65 x 402.6 x 319.14</td>\n",
       "      <td>N/A</td>\n",
       "      <td>₹ 342,989</td>\n",
       "      <td>4.1</td>\n",
       "    </tr>\n",
       "    <tr>\n",
       "      <th>4</th>\n",
       "      <td>ALIENWARE M15 R3</td>\n",
       "      <td>Windows 10 Home</td>\n",
       "      <td>15.6\" (3840 x 2160)</td>\n",
       "      <td>10th Gen Intel® Core™ i9-10980HK | NA</td>\n",
       "      <td>1 TB SSD/16 GBGB DDR4</td>\n",
       "      <td>NA</td>\n",
       "      <td>NA</td>\n",
       "      <td>NA</td>\n",
       "      <td>Amazon</td>\n",
       "      <td>₹ 319,990</td>\n",
       "      <td>NA</td>\n",
       "    </tr>\n",
       "    <tr>\n",
       "      <th>5</th>\n",
       "      <td>ASUS ROG STRIX SCAR 15</td>\n",
       "      <td>Windows 10 Home</td>\n",
       "      <td>15.6\" (1920 x 1080)</td>\n",
       "      <td>AMD Ryzen™ 9 5900HX | 3.3 GHz</td>\n",
       "      <td>1 TB SSD/16 GBGB DDR4</td>\n",
       "      <td>2.30</td>\n",
       "      <td>35.4 x 25.9 x 2.26</td>\n",
       "      <td>35.4 x 25.9 x 2.26</td>\n",
       "      <td>Flipkart</td>\n",
       "      <td>₹ 215,990</td>\n",
       "      <td>2.30</td>\n",
       "    </tr>\n",
       "    <tr>\n",
       "      <th>6</th>\n",
       "      <td>ASUS ZEPHYRUS G14</td>\n",
       "      <td>Windows 10 Home</td>\n",
       "      <td>14\" (1920 x 1080)</td>\n",
       "      <td>AMD 3rd Gen Ryzen 9 | 3.3 GHz</td>\n",
       "      <td>1 TB SSD/16 GBGB DDR4</td>\n",
       "      <td>1.65</td>\n",
       "      <td>32.5 x 22.1 x 1.8</td>\n",
       "      <td>32.5 x 22.1 x 1.8</td>\n",
       "      <td>Amazon</td>\n",
       "      <td>₹ 164,990</td>\n",
       "      <td>1.65</td>\n",
       "    </tr>\n",
       "    <tr>\n",
       "      <th>7</th>\n",
       "      <td>LENOVO LEGION 5I</td>\n",
       "      <td>Windows 10 Pro</td>\n",
       "      <td>15.6\" (1920 x 1080)</td>\n",
       "      <td>10th Gen Intel® Core™ i5-10300H | 2.50 GHz</td>\n",
       "      <td>1 TB SSD/16 GBGB DDR4</td>\n",
       "      <td>2.3</td>\n",
       "      <td>363.06 x 259.61 x 23.57</td>\n",
       "      <td>363.06 x 259.61 x 23.57</td>\n",
       "      <td>Amazon</td>\n",
       "      <td>₹ 76,988</td>\n",
       "      <td>2.3</td>\n",
       "    </tr>\n",
       "    <tr>\n",
       "      <th>8</th>\n",
       "      <td>ASUS ROG ZEPHYRUS DUO 15</td>\n",
       "      <td>Windows 10</td>\n",
       "      <td>15.6\" (3840 x 1100)</td>\n",
       "      <td>Intel Core i7 10th Gen 10875H | NA</td>\n",
       "      <td>512 GB SSD/4 GBGB DDR4</td>\n",
       "      <td>2.4</td>\n",
       "      <td>268.30 x 360.00 x 20.90</td>\n",
       "      <td>268.30 x 360.00 x 20.90</td>\n",
       "      <td>Amazon</td>\n",
       "      <td>₹ 185,000</td>\n",
       "      <td>2.4</td>\n",
       "    </tr>\n",
       "    <tr>\n",
       "      <th>9</th>\n",
       "      <td>ACER ASPIRE 7 GAMING LAPTOP</td>\n",
       "      <td>Windows 10 Home</td>\n",
       "      <td>15.6\" (1920 x 1080)</td>\n",
       "      <td>AMD Ryzen™ 5-5500U hexa-core | NA</td>\n",
       "      <td>512 GB SSD/8 GBGB DDR4</td>\n",
       "      <td>2.15</td>\n",
       "      <td>2.29 x 36.3 x 25.4</td>\n",
       "      <td>2.29 x 36.3 x 25.4</td>\n",
       "      <td>Amazon</td>\n",
       "      <td>₹ 57,990</td>\n",
       "      <td>2.15</td>\n",
       "    </tr>\n",
       "  </tbody>\n",
       "</table>\n",
       "</div>"
      ],
      "text/plain": [
       "                   Laptop_name               OS              Display  \\\n",
       "0                 ACER NITRO 5       Windows 10  15.6\" (1920 x 1080)   \n",
       "1              MSI STEALTH 15M       Windows 10  15.6\" (1920 x 1080)   \n",
       "2       ASUS ROG STRIX SCAR 15       Windows 10  15.6\" (2560 x 1440)   \n",
       "3        ALIENWARE AREA 51M R2  Windows 10 Home  17.3\" (1920 x 1080)   \n",
       "4             ALIENWARE M15 R3  Windows 10 Home  15.6\" (3840 x 2160)   \n",
       "5       ASUS ROG STRIX SCAR 15  Windows 10 Home  15.6\" (1920 x 1080)   \n",
       "6            ASUS ZEPHYRUS G14  Windows 10 Home    14\" (1920 x 1080)   \n",
       "7             LENOVO LEGION 5I   Windows 10 Pro  15.6\" (1920 x 1080)   \n",
       "8     ASUS ROG ZEPHYRUS DUO 15       Windows 10  15.6\" (3840 x 1100)   \n",
       "9  ACER ASPIRE 7 GAMING LAPTOP  Windows 10 Home  15.6\" (1920 x 1080)   \n",
       "\n",
       "                                    Processor                  Memory Weight  \\\n",
       "0             AMD Ryzen 9 Octa Core | 2.4 GHz   1 TB HDD/16 GBGB DDR4    2.4   \n",
       "1        Intel Core i7 11th Gen - 11375H | NA   1 TB SSD/16 GBGB DDR4    1.7   \n",
       "2    AMD Ryzen 9 Octa Core - 5900HX | 3.3 GHz   2 TB SSD/32 GBGB DDR4   2.30   \n",
       "3   10th Gen Intel® Core™ i7-10700 | 2.90 GHz   1 TB SSD/16 GBGB DDR4    4.1   \n",
       "4       10th Gen Intel® Core™ i9-10980HK | NA   1 TB SSD/16 GBGB DDR4     NA   \n",
       "5               AMD Ryzen™ 9 5900HX | 3.3 GHz   1 TB SSD/16 GBGB DDR4   2.30   \n",
       "6               AMD 3rd Gen Ryzen 9 | 3.3 GHz   1 TB SSD/16 GBGB DDR4   1.65   \n",
       "7  10th Gen Intel® Core™ i5-10300H | 2.50 GHz   1 TB SSD/16 GBGB DDR4    2.3   \n",
       "8          Intel Core i7 10th Gen 10875H | NA  512 GB SSD/4 GBGB DDR4    2.4   \n",
       "9           AMD Ryzen™ 5-5500U hexa-core | NA  512 GB SSD/8 GBGB DDR4   2.15   \n",
       "\n",
       "                 Dimension        Graphic_Processor    Seller      Price  \\\n",
       "0       363.4 x 255 x 23.9       363.4 x 255 x 23.9  Flipkart  ₹ 129,990   \n",
       "1      358.3 x 248 x 16.15      358.3 x 248 x 16.15  Flipkart  ₹ 134,990   \n",
       "2         354 x 259 x 22.6         354 x 259 x 22.6  Flipkart  ₹ 268,990   \n",
       "3   27.65 x 402.6 x 319.14   27.65 x 402.6 x 319.14       N/A  ₹ 342,989   \n",
       "4                       NA                       NA    Amazon  ₹ 319,990   \n",
       "5       35.4 x 25.9 x 2.26       35.4 x 25.9 x 2.26  Flipkart  ₹ 215,990   \n",
       "6        32.5 x 22.1 x 1.8        32.5 x 22.1 x 1.8    Amazon  ₹ 164,990   \n",
       "7  363.06 x 259.61 x 23.57  363.06 x 259.61 x 23.57    Amazon   ₹ 76,988   \n",
       "8  268.30 x 360.00 x 20.90  268.30 x 360.00 x 20.90    Amazon  ₹ 185,000   \n",
       "9       2.29 x 36.3 x 25.4       2.29 x 36.3 x 25.4    Amazon   ₹ 57,990   \n",
       "\n",
       "  Product_desc  \n",
       "0          2.4  \n",
       "1          1.7  \n",
       "2         2.30  \n",
       "3          4.1  \n",
       "4           NA  \n",
       "5         2.30  \n",
       "6         1.65  \n",
       "7          2.3  \n",
       "8          2.4  \n",
       "9         2.15  "
      ]
     },
     "execution_count": 42,
     "metadata": {},
     "output_type": "execute_result"
    }
   ],
   "source": [
    "Laptops=pd.DataFrame()\n",
    "Laptops['Laptop_name']= Laptop_name\n",
    "Laptops['OS']= OS\n",
    "Laptops['Display']= Display\n",
    "Laptops['Processor']= Processor\n",
    "Laptops['Memory']= Memory\n",
    "Laptops['Weight']= Weight\n",
    "Laptops['Dimension']= Dimension\n",
    "Laptops['Graphic_Processor']= Graphic_Processor\n",
    "Laptops['Seller']= Seller\n",
    "Laptops['Price']= Price\n",
    "Laptops['Product_desc']= Weight\n",
    "Laptops"
   ]
  },
  {
   "cell_type": "code",
   "execution_count": null,
   "id": "87cc58bb",
   "metadata": {},
   "outputs": [],
   "source": []
  }
 ],
 "metadata": {
  "kernelspec": {
   "display_name": "Python 3",
   "language": "python",
   "name": "python3"
  },
  "language_info": {
   "codemirror_mode": {
    "name": "ipython",
    "version": 3
   },
   "file_extension": ".py",
   "mimetype": "text/x-python",
   "name": "python",
   "nbconvert_exporter": "python",
   "pygments_lexer": "ipython3",
   "version": "3.8.8"
  }
 },
 "nbformat": 4,
 "nbformat_minor": 5
}
